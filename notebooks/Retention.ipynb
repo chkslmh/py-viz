{
 "cells": [
  {
   "cell_type": "markdown",
   "id": "41539598-b465-4d53-8606-d5c18e532708",
   "metadata": {},
   "source": [
    "> Ref: Amplitude의 [Product Analytics Playbook: Mastering Retention](https://www.productanalyticsplaybook.com/#top)\n",
    "\n",
    "위의 내용 中 1. **리텐션 커브** 2. **리텐션 라이프사이클 프레임워크** 에 대한 분석 및 시각화 작업과 이를 파이프라인화 할 수 있는 메소드를 만들어본다."
   ]
  },
  {
   "cell_type": "markdown",
   "id": "e6491c88-7884-4918-9b93-5fc279908494",
   "metadata": {},
   "source": [
    "# 1. 데이터 가공 단계"
   ]
  },
  {
   "cell_type": "markdown",
   "id": "c02c898b-b5a6-47eb-a1b7-345786c5d50e",
   "metadata": {},
   "source": [
    "- 소스가 되는 데이터의 형태는 웹/앱에서 발생하는 이벤트 로그를 가정\n",
    "- 이벤트 로그를 기반으로 리텐션 분석이 가능한 형태의 테이블 만들기\n",
    "- 데이터 처리는 pyspark를 통해 진행"
   ]
  },
  {
   "cell_type": "code",
   "execution_count": 1,
   "id": "bb0ce2e4-9eeb-4ccf-ad9d-3a01d26cbd3c",
   "metadata": {},
   "outputs": [],
   "source": [
    "import os\n",
    "# os.environ[\"PYSPARK_PYTHON\"] = \"/opt/homebrew/bin/python3\""
   ]
  },
  {
   "cell_type": "code",
   "execution_count": 2,
   "id": "505bc994-0cc3-4984-b736-7c40897349ad",
   "metadata": {},
   "outputs": [],
   "source": [
    "from pyspark.sql import SparkSession, Row, DataFrame\n",
    "from pyspark import SparkContext"
   ]
  },
  {
   "cell_type": "code",
   "execution_count": 6,
   "id": "8c8f19b9-7f8c-43d3-8a5a-39a29de6af2c",
   "metadata": {
    "tags": []
   },
   "outputs": [
    {
     "name": "stderr",
     "output_type": "stream",
     "text": [
      "21/07/11 16:35:23 WARN SparkContext: Another SparkContext is being constructed (or threw an exception in its constructor). This may indicate an error, since only one SparkContext should be running in this JVM (see SPARK-2243). The other SparkContext was created at:\n",
      "org.apache.spark.api.java.JavaSparkContext.<init>(JavaSparkContext.scala:58)\n",
      "java.base/jdk.internal.reflect.NativeConstructorAccessorImpl.newInstance0(Native Method)\n",
      "java.base/jdk.internal.reflect.NativeConstructorAccessorImpl.newInstance(NativeConstructorAccessorImpl.java:62)\n",
      "java.base/jdk.internal.reflect.DelegatingConstructorAccessorImpl.newInstance(DelegatingConstructorAccessorImpl.java:45)\n",
      "java.base/java.lang.reflect.Constructor.newInstanceWithCaller(Constructor.java:500)\n",
      "java.base/java.lang.reflect.Constructor.newInstance(Constructor.java:481)\n",
      "py4j.reflection.MethodInvoker.invoke(MethodInvoker.java:247)\n",
      "py4j.reflection.ReflectionEngine.invoke(ReflectionEngine.java:357)\n",
      "py4j.Gateway.invoke(Gateway.java:238)\n",
      "py4j.commands.ConstructorCommand.invokeConstructor(ConstructorCommand.java:80)\n",
      "py4j.commands.ConstructorCommand.execute(ConstructorCommand.java:69)\n",
      "py4j.GatewayConnection.run(GatewayConnection.java:238)\n",
      "java.base/java.lang.Thread.run(Thread.java:832)\n"
     ]
    }
   ],
   "source": [
    "MAX_MEMORY = \"32g\"\n",
    "SPARK = (\n",
    "    SparkSession.builder.appName(\"Plots Tutorial Shell\")\n",
    "    .config(\"spark.driver.host\", \"localhost\")\n",
    "    .config(\"spark.driver.memory\", MAX_MEMORY)\n",
    "    .config(\"spark.sql.session.timeZone\", \"Asia/Seoul\")\n",
    "    .config(\"spark.driver.extraJavaOptions\", \"-Duser.timezone=Asia/Seoul\")\n",
    "    .config(\"spark.executor.extraJavaOptions\", \"-Duser.timezone=Asia/Seoul\")\n",
    "    .getOrCreate()\n",
    ")"
   ]
  },
  {
   "cell_type": "code",
   "execution_count": 7,
   "id": "96053db3-9069-438f-ba89-ceff932a979a",
   "metadata": {},
   "outputs": [],
   "source": [
    "import datetime"
   ]
  },
  {
   "cell_type": "code",
   "execution_count": 8,
   "id": "80dc6d95-cf8e-4dab-9006-f8e236740b28",
   "metadata": {},
   "outputs": [],
   "source": [
    "# event log samples\n",
    "\n",
    "event_logs = SPARK.createDataFrame(\n",
    "    [\n",
    "        Row(timestamp=datetime.datetime(2021, 7, 1, 1, 1, 1), user_id=\"3215\", event_name=\"chat\"),\n",
    "        Row(timestamp=datetime.datetime(2021, 7, 1, 1, 1, 1), user_id=\"1400\", event_name=\"chat\"),\n",
    "        Row(timestamp=datetime.datetime(2021, 7, 1, 1, 1, 1), user_id=\"1000\", event_name=\"chat\"),\n",
    "        Row(timestamp=datetime.datetime(2021, 7, 1, 1, 1, 1), user_id=\"800\", event_name=\"chat\"),\n",
    "        Row(timestamp=datetime.datetime(2021, 7, 1, 1, 1, 1), user_id=\"600\", event_name=\"lectureplay\"),\n",
    "        Row(timestamp=datetime.datetime(2021, 7, 1, 1, 1, 1), user_id=\"580\", event_name=\"chat\"),\n",
    "        Row(timestamp=datetime.datetime(2021, 7, 1, 1, 1, 1), user_id=\"582\", event_name=\"lectureplay\"),\n",
    "        Row(timestamp=datetime.datetime(2021, 7, 1, 1, 1, 1), user_id=\"550\", event_name=\"chat\"),\n",
    "        Row(timestamp=datetime.datetime(2021, 7, 2, 1, 1, 1), user_id=\"3215\", event_name=\"chat\"),\n",
    "        Row(timestamp=datetime.datetime(2021, 7, 2, 1, 1, 1), user_id=\"1400\", event_name=\"chat\"),\n",
    "        Row(timestamp=datetime.datetime(2021, 7, 2, 1, 1, 1), user_id=\"1000\", event_name=\"chat\"),\n",
    "        Row(timestamp=datetime.datetime(2021, 7, 3, 1, 1, 1), user_id=\"3215\", event_name=\"chat\"),\n",
    "        Row(timestamp=datetime.datetime(2021, 7, 4, 1, 1, 1), user_id=\"1400\", event_name=\"chat\"),\n",
    "        Row(timestamp=datetime.datetime(2021, 7, 3, 1, 1, 1), user_id=\"1000\", event_name=\"chat\"),\n",
    "        Row(timestamp=datetime.datetime(2021, 7, 3, 1, 1, 1), user_id=\"800\", event_name=\"chat\"),\n",
    "        Row(timestamp=datetime.datetime(2021, 7, 3, 1, 1, 1), user_id=\"600\", event_name=\"chat\"),\n",
    "        Row(timestamp=datetime.datetime(2021, 7, 4, 1, 1, 1), user_id=\"580\", event_name=\"chat\"),\n",
    "        Row(timestamp=datetime.datetime(2021, 7, 5, 1, 1, 1), user_id=\"582\", event_name=\"chat\"),\n",
    "        Row(timestamp=datetime.datetime(2021, 7, 6, 1, 1, 1), user_id=\"550\", event_name=\"chat\"),\n",
    "    ]\n",
    ")"
   ]
  },
  {
   "cell_type": "markdown",
   "id": "a1d4ce4a-cd0d-4a8c-954e-1e509126d3fa",
   "metadata": {},
   "source": [
    "## TASK1: 특정 이벤트 발생을 기준으로 유저 리텐션 측정"
   ]
  },
  {
   "cell_type": "code",
   "execution_count": 9,
   "id": "402d368b-f3c0-4c7a-a526-1a81b070176f",
   "metadata": {},
   "outputs": [],
   "source": [
    "from typing import Literal, Union, Optional, List\n",
    "from pyspark.sql import Window\n",
    "import pyspark.sql.functions as F\n",
    "import pyspark.sql.types as T\n",
    "from math import floor"
   ]
  },
  {
   "cell_type": "markdown",
   "id": "b2b050c7-d1d4-4339-8b8a-31781188fd1c",
   "metadata": {},
   "source": [
    "Retention 측정 방법 세 가지\n",
    "1. N-Day\n",
    "2. Bracket\n",
    "3. Unbounded"
   ]
  },
  {
   "cell_type": "code",
   "execution_count": 10,
   "id": "499be8d0-7ff0-47bb-bfb3-8314553e970d",
   "metadata": {},
   "outputs": [],
   "source": [
    "RetentionType = Union[Literal[\"N-Day\"], Literal[\"Bracket\"], Literal[\"Unbounded\"]]"
   ]
  },
  {
   "cell_type": "code",
   "execution_count": 11,
   "id": "0537da3e-7fdb-4c5f-92c2-f68b2eb1442c",
   "metadata": {
    "tags": []
   },
   "outputs": [],
   "source": [
    "def get_date_brackets(\n",
    "    start_date: datetime.date, \n",
    "    end_date: datetime.date, \n",
    "    bracket_sizes: List[int]\n",
    ") -> List[List[datetime.date]]:\n",
    "    idx = 0\n",
    "    lower = start_date\n",
    "    upper = min([start_date + datetime.timedelta(days=bracket_sizes[idx] - 1), end_date])\n",
    "    brackets = [[lower, upper]]\n",
    "    while idx + 1 < len(bracket_sizes) and upper < end_date:\n",
    "        idx += 1\n",
    "        lower = upper + datetime.timedelta(days=1)\n",
    "        upper = min([upper + datetime.timedelta(days=bracket_sizes[idx]), end_date])\n",
    "        brackets.append([lower, upper])\n",
    "    \n",
    "    return brackets\n",
    "\n",
    "\n",
    "def get_retention_df(\n",
    "    event_logs: DataFrame,\n",
    "    event_name: str,\n",
    "    start_date: datetime.date,\n",
    "    end_date: datetime.date,\n",
    "    retention_type: RetentionType, \n",
    "    bracket_size: Optional[int] = None,\n",
    "    custom_bracket_sizes: Optional[List[int]] = None, \n",
    ") -> DataFrame:  \n",
    "    window_size = (end_date - start_date).days + 1\n",
    "    \n",
    "    df_filtered = (\n",
    "        event_logs\n",
    "        .filter(F.col(\"event_name\") == event_name)\n",
    "        \n",
    "        .withColumn(\"date\", F.col(\"timestamp\").cast(T.DateType()))\n",
    "        .filter((F.col(\"date\") >= start_date) & (F.col(\"date\") <= end_date))\n",
    "    )\n",
    "    \n",
    "    if retention_type == \"N-Day\":\n",
    "        df_filtered = (\n",
    "            df_filtered\n",
    "            .withColumn(\n",
    "                \"cohort_members\", \n",
    "                F.first(F.collect_set(\"user_id\").over(Window.partitionBy(\"date\"))).over(Window.partitionBy().orderBy(\"date\"))\n",
    "            )\n",
    "            .filter(F.array_contains(F.col(\"cohort_members\"), F.col(\"user_id\")))\n",
    "        )\n",
    "        \n",
    "        df_grouped_by_date = (\n",
    "            df_filtered\n",
    "            .groupBy(\"date\", \"event_name\")\n",
    "            .agg(\n",
    "                F.collect_set(\"user_id\").alias(\"user_ids\")\n",
    "            )\n",
    "        )\n",
    "        \n",
    "        df_grouped = (\n",
    "            df_grouped_by_date\n",
    "            .withColumn(\"range_index\", F.row_number().over(Window.partitionBy().orderBy(\"date\")) - 1)\n",
    "        )\n",
    "        \n",
    "        template_df = SPARK.createDataFrame(\n",
    "            [\n",
    "                Row(\n",
    "                    range_index=i, \n",
    "                    date=start_date + datetime.timedelta(days=i), \n",
    "                    event_name=event_name,\n",
    "                    retention_type=retention_type\n",
    "                ) for i in range(window_size)\n",
    "            ]\n",
    "        )\n",
    "    elif retention_type == \"Bracket\":\n",
    "        assert bracket_size is not None or custom_bracket_sizes is not None\n",
    "        \n",
    "        if custom_bracket_sizes:\n",
    "            cohort_members = (\n",
    "                df_filtered\n",
    "                .filter(F.col(\"date\") <= start_date + datetime.timedelta(days=custom_bracket_sizes[0] - 1))\n",
    "                .select(F.collect_set(\"user_id\").alias(\"user_ids\"))\n",
    "                .first()\n",
    "                .user_ids\n",
    "            )\n",
    "            df_filtered = (\n",
    "                df_filtered\n",
    "                .filter(F.col(\"user_id\").isin(cohort_members))\n",
    "            )\n",
    "            \n",
    "            bracket_sizes = custom_bracket_sizes\n",
    "            \n",
    "        else:\n",
    "            cohort_members = (\n",
    "                df_filtered\n",
    "                .filter(F.col(\"date\") <= start_date + datetime.timedelta(days=bracket_size - 1))\n",
    "                .select(F.collect_set(\"user_id\").alias(\"user_ids\"))\n",
    "                .first()\n",
    "                .user_ids\n",
    "            )\n",
    "            df_filtered = (\n",
    "                df_filtered\n",
    "                .filter(F.col(\"user_id\").isin(cohort_members))\n",
    "            )\n",
    "            bracket_sizes = [bracket_size] * floor(window_size / bracket_size)\n",
    "            bracket_sizes += [window_size - sum(bracket_sizes)]\n",
    "            \n",
    "        brackets = get_date_brackets(start_date=start_date, end_date=end_date, bracket_sizes=bracket_sizes)\n",
    "        \n",
    "        @F.udf(T.IntegerType())\n",
    "        def bracket_mapper(date: datetime.date):\n",
    "            for idx, (lower, upper) in enumerate(brackets):\n",
    "                if date >= lower and date <= upper:\n",
    "                    return idx\n",
    "\n",
    "        df_grouped_by_bracket = (\n",
    "            df_filtered\n",
    "            .withColumn(\"bracket\", bracket_mapper(\"date\"))\n",
    "            .groupBy(\"bracket\", \"event_name\")\n",
    "            .agg(\n",
    "                F.collect_set(\"user_id\").alias(\"user_ids\"),\n",
    "                F.array(F.min(\"date\"), F.max(\"date\")).alias(\"date\"),\n",
    "            )\n",
    "        )\n",
    "\n",
    "        df_grouped = (\n",
    "            df_grouped_by_bracket\n",
    "            .withColumnRenamed(\"bracket\", \"range_index\")\n",
    "        )\n",
    "        \n",
    "        template_df = SPARK.createDataFrame(\n",
    "            [\n",
    "                Row(\n",
    "                    range_index=i, \n",
    "                    date=brackets[i], \n",
    "                    event_name=event_name,\n",
    "                    retention_type=retention_type\n",
    "                ) for i in range(len(brackets))\n",
    "            ]\n",
    "        )\n",
    "            \n",
    "    elif retention_type == \"Unbounded\":\n",
    "        df_filtered = (\n",
    "            df_filtered\n",
    "            .withColumn(\n",
    "                \"cohort_members\", \n",
    "                F.first(F.collect_set(\"user_id\").over(Window.partitionBy(\"date\"))).over(Window.partitionBy().orderBy(\"date\"))\n",
    "            )\n",
    "            .filter(F.array_contains(F.col(\"cohort_members\"), F.col(\"user_id\")))\n",
    "        )\n",
    "        \n",
    "        df_grouped_by_date = (\n",
    "            df_filtered\n",
    "            .withColumn(\n",
    "                \"user_ids\", \n",
    "                F.collect_set(\"user_id\").over(Window.partitionBy().orderBy(\"date\").rowsBetween(Window.currentRow, Window.unboundedFollowing))\n",
    "            )\n",
    "            .dropDuplicates([\"date\", \"event_name\"])\n",
    "        )\n",
    "        \n",
    "        df_grouped = (\n",
    "            df_grouped_by_date\n",
    "            .withColumn(\"range_index\", F.row_number().over(Window.partitionBy().orderBy(\"date\")) - 1)\n",
    "        )\n",
    "        \n",
    "        template_df = SPARK.createDataFrame(\n",
    "            [\n",
    "                Row(\n",
    "                    range_index=i, \n",
    "                    date=start_date + datetime.timedelta(days=i), \n",
    "                    event_name=event_name,\n",
    "                    retention_type=retention_type\n",
    "                ) for i in range(window_size)\n",
    "            ]\n",
    "        )\n",
    "    else:\n",
    "        raise ValueError(\"Retention type undefined.\")\n",
    "    \n",
    "    cohort_size = F.first(\"num_users\").over(Window.partitionBy().orderBy(\"range_index\"))\n",
    "    retention_df = (\n",
    "        template_df\n",
    "        .join(\n",
    "            df_grouped.withColumn(\"num_users\", F.size(\"user_ids\")).select(\"range_index\", \"num_users\"),\n",
    "            on=[\"range_index\"],\n",
    "            how=\"left\"\n",
    "        )\n",
    "        .fillna(subset=[\"num_users\"], value=0)\n",
    "        .withColumn(\"retention_rate\", F.col(\"num_users\") / cohort_size)\n",
    "    )\n",
    "    \n",
    "    return retention_df.select(\n",
    "        \"range_index\",\n",
    "        \"date\",\n",
    "        \"event_name\",\n",
    "        \"retention_type\",\n",
    "        \"num_users\",\n",
    "        \"retention_rate\"\n",
    "    )"
   ]
  },
  {
   "cell_type": "markdown",
   "id": "96e3f317-cc77-44ca-81ba-ecef47981e24",
   "metadata": {},
   "source": [
    "### N-day 방식 샘플"
   ]
  },
  {
   "cell_type": "code",
   "execution_count": 12,
   "id": "59844636-a8f2-4128-9b7e-d86b84b3cb66",
   "metadata": {},
   "outputs": [],
   "source": [
    "retention_df = get_retention_df(\n",
    "    event_logs=event_logs, \n",
    "    event_name=\"chat\",\n",
    "    start_date=datetime.date(2021, 7, 1), \n",
    "    end_date=datetime.date(2021, 7, 6), \n",
    "    retention_type=\"N-Day\",\n",
    ")"
   ]
  },
  {
   "cell_type": "code",
   "execution_count": 13,
   "id": "bf9c62f1-ecac-48aa-8987-8b896a436a10",
   "metadata": {},
   "outputs": [
    {
     "name": "stderr",
     "output_type": "stream",
     "text": [
      "21/07/11 16:35:38 WARN WindowExec: No Partition Defined for Window operation! Moving all data to a single partition, this can cause serious performance degradation.\n",
      "21/07/11 16:35:38 WARN WindowExec: No Partition Defined for Window operation! Moving all data to a single partition, this can cause serious performance degradation.\n",
      "21/07/11 16:35:38 WARN WindowExec: No Partition Defined for Window operation! Moving all data to a single partition, this can cause serious performance degradation.\n",
      "[Stage 4:=====================================================> (194 + 6) / 200]\r"
     ]
    },
    {
     "name": "stdout",
     "output_type": "stream",
     "text": [
      "+-----------+----------+----------+--------------+---------+-------------------+\n",
      "|range_index|date      |event_name|retention_type|num_users|retention_rate     |\n",
      "+-----------+----------+----------+--------------+---------+-------------------+\n",
      "|0          |2021-07-01|chat      |N-Day         |6        |1.0                |\n",
      "|1          |2021-07-02|chat      |N-Day         |3        |0.5                |\n",
      "|2          |2021-07-03|chat      |N-Day         |3        |0.5                |\n",
      "|3          |2021-07-04|chat      |N-Day         |2        |0.3333333333333333 |\n",
      "|4          |2021-07-05|chat      |N-Day         |1        |0.16666666666666666|\n",
      "|5          |2021-07-06|chat      |N-Day         |0        |0.0                |\n",
      "+-----------+----------+----------+--------------+---------+-------------------+\n",
      "\n"
     ]
    },
    {
     "name": "stderr",
     "output_type": "stream",
     "text": [
      "                                                                                \r"
     ]
    }
   ],
   "source": [
    "retention_df.show(20, False)"
   ]
  },
  {
   "cell_type": "markdown",
   "id": "55d63580-cb18-4a4b-bbd0-5cd0c92a3309",
   "metadata": {},
   "source": [
    "### Bracket 방식 샘플"
   ]
  },
  {
   "cell_type": "code",
   "execution_count": 14,
   "id": "5cafed44-57ae-4d67-99e0-f9bf837ec692",
   "metadata": {},
   "outputs": [],
   "source": [
    "retention_df = get_retention_df(\n",
    "    event_logs=event_logs, \n",
    "    event_name=\"chat\",\n",
    "    start_date=datetime.date(2021, 7, 1), \n",
    "    end_date=datetime.date(2021, 7, 6), \n",
    "    retention_type=\"Bracket\",\n",
    "    bracket_size=2\n",
    ")"
   ]
  },
  {
   "cell_type": "code",
   "execution_count": 15,
   "id": "8005a3fd-5d22-4352-b7c3-a517dc9a1492",
   "metadata": {},
   "outputs": [
    {
     "name": "stderr",
     "output_type": "stream",
     "text": [
      "21/07/11 16:35:51 WARN WindowExec: No Partition Defined for Window operation! Moving all data to a single partition, this can cause serious performance degradation.\n",
      "[Stage 11:==========================================>           (156 + 8) / 200]\r"
     ]
    },
    {
     "name": "stdout",
     "output_type": "stream",
     "text": [
      "+-----------+------------------------+----------+--------------+---------+-------------------+\n",
      "|range_index|date                    |event_name|retention_type|num_users|retention_rate     |\n",
      "+-----------+------------------------+----------+--------------+---------+-------------------+\n",
      "|0          |[2021-07-01, 2021-07-02]|chat      |Bracket       |6        |1.0                |\n",
      "|1          |[2021-07-03, 2021-07-04]|chat      |Bracket       |5        |0.8333333333333334 |\n",
      "|2          |[2021-07-05, 2021-07-06]|chat      |Bracket       |1        |0.16666666666666666|\n",
      "+-----------+------------------------+----------+--------------+---------+-------------------+\n",
      "\n"
     ]
    },
    {
     "name": "stderr",
     "output_type": "stream",
     "text": [
      "                                                                                \r"
     ]
    }
   ],
   "source": [
    "retention_df.show(20, False)"
   ]
  },
  {
   "cell_type": "markdown",
   "id": "2098e1fa-3747-4ccb-a630-5b33e1596694",
   "metadata": {},
   "source": [
    "### Unbounded 방식 샘플"
   ]
  },
  {
   "cell_type": "code",
   "execution_count": 16,
   "id": "1154bc25-4799-4f61-a6f9-bc88b5d911d9",
   "metadata": {},
   "outputs": [],
   "source": [
    "retention_df = get_retention_df(\n",
    "    event_logs=event_logs, \n",
    "    event_name=\"chat\",\n",
    "    start_date=datetime.date(2021, 7, 1), \n",
    "    end_date=datetime.date(2021, 7, 6), \n",
    "    retention_type=\"Unbounded\",\n",
    ")"
   ]
  },
  {
   "cell_type": "code",
   "execution_count": 17,
   "id": "09d4ca57-462c-4a53-bbad-4eff95d83854",
   "metadata": {},
   "outputs": [
    {
     "name": "stderr",
     "output_type": "stream",
     "text": [
      "21/07/11 16:35:56 WARN WindowExec: No Partition Defined for Window operation! Moving all data to a single partition, this can cause serious performance degradation.\n",
      "21/07/11 16:35:56 WARN WindowExec: No Partition Defined for Window operation! Moving all data to a single partition, this can cause serious performance degradation.\n",
      "21/07/11 16:35:56 WARN WindowExec: No Partition Defined for Window operation! Moving all data to a single partition, this can cause serious performance degradation.\n",
      "21/07/11 16:35:56 WARN WindowExec: No Partition Defined for Window operation! Moving all data to a single partition, this can cause serious performance degradation.\n",
      "[Stage 14:================================================>     (179 + 8) / 200]\r"
     ]
    },
    {
     "name": "stdout",
     "output_type": "stream",
     "text": [
      "+-----------+----------+----------+--------------+---------+-------------------+\n",
      "|range_index|date      |event_name|retention_type|num_users|retention_rate     |\n",
      "+-----------+----------+----------+--------------+---------+-------------------+\n",
      "|0          |2021-07-01|chat      |Unbounded     |6        |1.0                |\n",
      "|1          |2021-07-02|chat      |Unbounded     |6        |1.0                |\n",
      "|2          |2021-07-03|chat      |Unbounded     |6        |1.0                |\n",
      "|3          |2021-07-04|chat      |Unbounded     |3        |0.5                |\n",
      "|4          |2021-07-05|chat      |Unbounded     |1        |0.16666666666666666|\n",
      "|5          |2021-07-06|chat      |Unbounded     |0        |0.0                |\n",
      "+-----------+----------+----------+--------------+---------+-------------------+\n",
      "\n"
     ]
    },
    {
     "name": "stderr",
     "output_type": "stream",
     "text": [
      "                                                                                \r"
     ]
    }
   ],
   "source": [
    "retention_df.show(20, False)"
   ]
  },
  {
   "cell_type": "markdown",
   "id": "16cec702-f27c-43d7-8661-09eeeb7bb0fe",
   "metadata": {},
   "source": [
    "## TASK2: 리텐션 라이프사이클에 따른 유저 그룹 분류"
   ]
  },
  {
   "cell_type": "markdown",
   "id": "ef130fbc-cf25-44eb-ada5-51c69f3be3a9",
   "metadata": {},
   "source": [
    "1. New Users\n",
    "2. Current Users(+Power Users)\n",
    "3. Resurrected Users\n",
    "4. Dormant Users"
   ]
  },
  {
   "cell_type": "markdown",
   "id": "5c7f7118-9b39-4360-977f-feb51fee4e88",
   "metadata": {},
   "source": [
    "유저 그룹 분류를 위해서는 이벤트 유형에 따른 유저의 리텐션 주기를 미리 파악하고 있어야 함\n",
    "\n",
    "*chat 이벤트의 주기는 하루(daily)로 가정*"
   ]
  },
  {
   "cell_type": "code",
   "execution_count": 47,
   "id": "89d02e47-49c6-4132-851b-7c6e4ce2b38a",
   "metadata": {},
   "outputs": [],
   "source": [
    "from collections import defaultdict\n",
    "from typing import Tuple\n",
    "\n",
    "\n",
    "def get_intervals(today: datetime.date, retention_cycle: int) -> Tuple[List[datetime.date]]:\n",
    "    current_interval = []\n",
    "    for i in range(retention_cycle):\n",
    "        current_interval.append(today - datetime.timedelta(days=i))\n",
    "    current_interval.sort()\n",
    "    \n",
    "    previous_interval = []\n",
    "    for j in range(retention_cycle, retention_cycle * 2):\n",
    "        previous_interval.append(today - datetime.timedelta(days=j))\n",
    "    previous_interval.sort()\n",
    "    \n",
    "    return previous_interval, current_interval\n",
    "\n",
    "\n",
    "def classify_user_groups(\n",
    "    event_logs: DataFrame,\n",
    "    event_name: str,\n",
    "    retention_cycle: int,\n",
    "    today: datetime.date\n",
    ") -> DataFrame:\n",
    "    df_filtered = event_logs.filter(F.col(\"event_name\") == event_name)\n",
    "    daily_user_groups = {\n",
    "        row.date: {\"active_users\": row.active_users, \"new_users\": row.new_users, \"user_pool\": row.user_pool}\n",
    "        for row in (\n",
    "            df_filtered\n",
    "            .withColumn(\"date\", F.col(\"timestamp\").cast(T.DateType()))\n",
    "            .withColumn(\n",
    "                \"new_user_flag\", \n",
    "                F.when(\n",
    "                    F.min(\"timestamp\").over(Window.partitionBy(\"user_id\")) == F.col(\"timestamp\"), \n",
    "                    F.col(\"user_id\")\n",
    "                ).otherwise(F.lit(None))\n",
    "            )\n",
    "            .withColumn(\n",
    "                \"all_users_so_far\",\n",
    "                F.collect_set(\"user_id\").over(Window.partitionBy().orderBy(\"timestamp\").rowsBetween(Window.unboundedPreceding, Window.currentRow))\n",
    "            )\n",
    "            .orderBy(\"timestamp\")\n",
    "            .groupBy(\"event_name\", \"date\")\n",
    "            .agg(\n",
    "                F.collect_set(\"user_id\").alias(\"active_users\"),\n",
    "                F.collect_set(\"new_user_flag\").alias(\"new_users\"),\n",
    "                F.last(\"all_users_so_far\").alias(\"user_pool\")\n",
    "            )\n",
    "            .collect()\n",
    "        )\n",
    "    }\n",
    "    \n",
    "    start_date = event_logs.select(F.min(\"timestamp\").cast(T.DateType()).alias(\"start_date\")).first().start_date\n",
    "    date_range = [start_date + datetime.timedelta(days=i) for i in range((today - start_date).days + 1)]\n",
    "    user_classifications = defaultdict(dict)\n",
    "    for date in date_range:\n",
    "        previous_interval, current_interval = get_intervals(today=date, retention_cycle=retention_cycle)\n",
    "        \n",
    "        # 1. New Users & Active Users\n",
    "        new_users = set()\n",
    "        active_users = set()\n",
    "        for _date in set(current_interval) & set(date_range):\n",
    "            new_users |= set(daily_user_groups[_date][\"new_users\"])\n",
    "            active_users |= set(daily_user_groups[_date][\"active_users\"])\n",
    "\n",
    "        user_classifications[date][\"new_users\"] = new_users\n",
    "        \n",
    "        # 2. Current Users\n",
    "        was_active_users = set()\n",
    "        for _date in set(previous_interval) & set(date_range):\n",
    "            if _date not in date_range:\n",
    "                continue\n",
    "            was_active_users |= set(daily_user_groups[_date][\"active_users\"])\n",
    "        \n",
    "        user_classifications[date][\"current_users\"] = active_users & was_active_users\n",
    "        \n",
    "        # 3. Resurrected Users\n",
    "        user_classifications[date][\"resurrected_users\"] = active_users - was_active_users - new_users\n",
    "        \n",
    "        # 4. Dormant Users\n",
    "        user_pool_so_far = set(daily_user_groups[date][\"user_pool\"])\n",
    "        \n",
    "        user_classifications[date][\"dormant_users\"] = user_pool_so_far - active_users\n",
    "        \n",
    "    user_classification_df = SPARK.createDataFrame(\n",
    "        [\n",
    "            Row(\n",
    "                event_name=event_name,\n",
    "                date=date,\n",
    "                new_users=len(user_groups[\"new_users\"]),\n",
    "                current_users=len(user_groups[\"current_users\"]),\n",
    "                resurrected_users=len(user_groups[\"resurrected_users\"]),\n",
    "                dormant_users=len(user_groups[\"dormant_users\"])\n",
    "            ) for date, user_groups in user_classifications.items()\n",
    "        ]\n",
    "    )\n",
    "    \n",
    "    return user_classification_df"
   ]
  },
  {
   "cell_type": "markdown",
   "id": "994490dc-f6f9-40bc-8338-1d0a6ecedc1c",
   "metadata": {},
   "source": [
    "### 유저 그룹 분류 샘플"
   ]
  },
  {
   "cell_type": "code",
   "execution_count": 49,
   "id": "8f259a81-a1e3-40ac-af45-e99e82f47510",
   "metadata": {},
   "outputs": [
    {
     "name": "stderr",
     "output_type": "stream",
     "text": [
      "21/07/11 21:09:58 WARN WindowExec: No Partition Defined for Window operation! Moving all data to a single partition, this can cause serious performance degradation.\n",
      "                                                                                \r"
     ]
    }
   ],
   "source": [
    "user_group_df = classify_user_groups(\n",
    "    event_logs=event_logs,\n",
    "    event_name=\"chat\",\n",
    "    retention_cycle=1,\n",
    "    today=datetime.date(2021, 7, 6)\n",
    ")"
   ]
  },
  {
   "cell_type": "code",
   "execution_count": 50,
   "id": "a9d5ff1a-26a8-4de2-ba9f-c75cf77ca9f2",
   "metadata": {},
   "outputs": [
    {
     "name": "stdout",
     "output_type": "stream",
     "text": [
      "+----------+----------+---------+-------------+-----------------+-------------+\n",
      "|event_name|      date|new_users|current_users|resurrected_users|dormant_users|\n",
      "+----------+----------+---------+-------------+-----------------+-------------+\n",
      "|      chat|2021-07-01|        6|            0|                0|            0|\n",
      "|      chat|2021-07-02|        0|            3|                0|            3|\n",
      "|      chat|2021-07-03|        1|            2|                1|            3|\n",
      "|      chat|2021-07-04|        0|            0|                2|            5|\n",
      "|      chat|2021-07-05|        1|            0|                0|            7|\n",
      "|      chat|2021-07-06|        0|            0|                1|            7|\n",
      "+----------+----------+---------+-------------+-----------------+-------------+\n",
      "\n"
     ]
    }
   ],
   "source": [
    "user_group_df.show()"
   ]
  },
  {
   "cell_type": "markdown",
   "id": "39f8991f-4662-4de3-99cd-2d709669701a",
   "metadata": {},
   "source": [
    "# 2. 시각화 단계"
   ]
  },
  {
   "cell_type": "markdown",
   "id": "7f3faa3e-1fc1-4221-9482-c9bfea0d0a47",
   "metadata": {},
   "source": [
    "- seaborn 사용해서 기본 테마 잡고\n",
    "- color 직접 지정해서 plot 커스텀할 수 있는 시각화 메소드 구현"
   ]
  },
  {
   "cell_type": "code",
   "execution_count": 20,
   "id": "68116ee2-fb81-4b59-9fdd-00349752b1bc",
   "metadata": {},
   "outputs": [],
   "source": [
    "import matplotlib.pyplot as plt\n",
    "import seaborn as sns\n",
    "import numpy as np\n",
    "\n",
    "%matplotlib inline"
   ]
  },
  {
   "cell_type": "markdown",
   "id": "f19b95a1-1df1-437c-a5b5-2ffe26b95215",
   "metadata": {},
   "source": [
    "## TASK1: 리텐션 커브 &rarr; Line Plot"
   ]
  },
  {
   "cell_type": "code",
   "execution_count": 21,
   "id": "91431c9b-0076-4ea4-b125-dc6425e493bd",
   "metadata": {},
   "outputs": [],
   "source": [
    "from typing import Tuple"
   ]
  },
  {
   "cell_type": "code",
   "execution_count": 22,
   "id": "fd9b01d5-155f-4b5d-bea9-aa182cc5af07",
   "metadata": {},
   "outputs": [],
   "source": [
    "def plot_retention_curve(\n",
    "    retention_df: DataFrame,\n",
    "    figsize: Tuple[str],\n",
    "    facecolor: str,\n",
    "    linecolor: str,\n",
    "    linestyle: str,\n",
    "    marker: str,\n",
    "    markersize: int,\n",
    "    fontfamily: str,\n",
    "    fontcolor: str,\n",
    "    fontsize: int\n",
    ") -> plt.Figure:\n",
    "    \n",
    "    data = retention_df.orderBy(\"range_index\").select(\"range_index\", \"date\", \"retention_rate\", \"num_users\").collect()\n",
    "    x_range = [row.range_index for row in data]\n",
    "    xlabel_date = [row.date for row in data]\n",
    "    y_retention_rate = [row.retention_rate for row in data]\n",
    "    y_num_users = [row.num_users for row in data]\n",
    "    \n",
    "    sns.set_theme(\n",
    "        context=\"notebook\",\n",
    "        style=\"darkgrid\",\n",
    "        font=fontfamily,\n",
    "        rc={\n",
    "            \"figure.figsize\": figsize,\n",
    "            \"axes.facecolor\": facecolor,\n",
    "        }\n",
    "    )\n",
    "    fig = plt.figure()\n",
    "    ax = fig.subplots()\n",
    "    \n",
    "    ax.plot(\n",
    "        x_range,\n",
    "        y_retention_rate,\n",
    "        color=linecolor,\n",
    "        ls=linestyle,\n",
    "        marker=marker,\n",
    "        ms=markersize,\n",
    "    )\n",
    "\n",
    "    # Set plot title\n",
    "    ax.set_title(\"Retention Curve\", size=fontsize*1.5, color=fontcolor)\n",
    "\n",
    "    # Set x tick & label\n",
    "    ax.set_xlabel(None)\n",
    "    ax.set_xticks(x_range)\n",
    "    retention_type = retention_df.select(\"retention_type\").first().retention_type\n",
    "    if retention_type == \"Bracket\":\n",
    "        x_labels = [\n",
    "            f\"{start_date.month}/{start_date.day}~{end_date.month}/{end_date.day}\" \n",
    "            for start_date, end_date in xlabel_date\n",
    "        ]\n",
    "        ax.set_xticklabels(x_labels, fontsize=fontsize, color=fontcolor, rotation=20)\n",
    "    else:\n",
    "        x_labels = [f\"{date.month}/{date.day}\" for date in xlabel_date]\n",
    "        ax.set_xticklabels(x_labels, fontsize=fontsize, color=fontcolor)\n",
    "\n",
    "    # Set y tick & label\n",
    "    ax.set_ylabel(None)\n",
    "    ax.set_yticks(np.arange(0, 1.01, .1))\n",
    "    ax.set_yticks(np.arange(0, 1.01, .05), minor=True)\n",
    "    y_labels = [\"{:.0%}\".format(r) for r in np.arange(0, 1.01, .1)]\n",
    "    ax.set_yticklabels(y_labels, fontsize=fontsize, color=fontcolor)\n",
    "\n",
    "    # Set grid\n",
    "    ax.grid(True, which=\"major\", axis=\"y\", ls=\":\")\n",
    "    ax.grid(True, axis=\"x\", ls=\":\")\n",
    "\n",
    "    # Annotate\n",
    "    for x, y, num_users in zip(x_range, y_retention_rate, y_num_users):\n",
    "        ax.text(\n",
    "            x - 0.1, y + 0.02, f\"{int(num_users)} Users\", \n",
    "            size=fontsize, \n",
    "            color=fontcolor\n",
    "        )\n",
    "    \n",
    "    return fig"
   ]
  },
  {
   "cell_type": "code",
   "execution_count": 23,
   "id": "33d3fedf-d3ad-4641-ad9a-ca7b526ce472",
   "metadata": {},
   "outputs": [],
   "source": [
    "figsize = (10, 8)\n",
    "facecolor = \"#e6ecff\"\n",
    "linecolor = \"#3269ff\"\n",
    "linestyle = \":\"\n",
    "marker = \"s\"\n",
    "markersize = 10\n",
    "fontfamily = \"sans-serif\"\n",
    "fontcolor = \"#003de6\"\n",
    "fontsize = 12"
   ]
  },
  {
   "cell_type": "code",
   "execution_count": 24,
   "id": "ab5357c7-1384-4963-8009-6d21ada60e09",
   "metadata": {},
   "outputs": [
    {
     "name": "stderr",
     "output_type": "stream",
     "text": [
      "21/07/11 00:08:23 WARN WindowExec: No Partition Defined for Window operation! Moving all data to a single partition, this can cause serious performance degradation.\n",
      "21/07/11 00:08:23 WARN WindowExec: No Partition Defined for Window operation! Moving all data to a single partition, this can cause serious performance degradation.\n",
      "21/07/11 00:08:23 WARN WindowExec: No Partition Defined for Window operation! Moving all data to a single partition, this can cause serious performance degradation.\n",
      "21/07/11 00:08:23 WARN WindowExec: No Partition Defined for Window operation! Moving all data to a single partition, this can cause serious performance degradation.\n",
      "21/07/11 00:08:24 WARN WindowExec: No Partition Defined for Window operation! Moving all data to a single partition, this can cause serious performance degradation.\n",
      "21/07/11 00:08:24 WARN WindowExec: No Partition Defined for Window operation! Moving all data to a single partition, this can cause serious performance degradation.\n"
     ]
    },
    {
     "data": {
      "image/png": "[encoded data removed]",
      "text/plain": [
       "<Figure size 720x576 with 1 Axes>"
      ]
     },
     "metadata": {},
     "output_type": "display_data"
    }
   ],
   "source": [
    "fig = plot_retention_curve(\n",
    "    retention_df=retention_df,\n",
    "    figsize=figsize,\n",
    "    facecolor=facecolor,\n",
    "    linecolor=linecolor,\n",
    "    linestyle=linestyle,\n",
    "    marker=marker,\n",
    "    markersize=markersize,\n",
    "    fontfamily=fontfamily,\n",
    "    fontcolor=fontcolor,\n",
    "    fontsize=fontsize\n",
    ")"
   ]
  },
  {
   "cell_type": "code",
   "execution_count": 30,
   "id": "4a387974-86e6-4415-883e-659ac59dce5b",
   "metadata": {},
   "outputs": [],
   "source": [
    "# fig.savefig(\"../images/test_retention_curve.png\")"
   ]
  },
  {
   "cell_type": "markdown",
   "id": "e214f895-d257-47cb-bb10-b0486d873cf3",
   "metadata": {},
   "source": [
    "## TASK2: 시간에 따른 Activer Users 변화 &rarr; Bar Plot"
   ]
  },
  {
   "cell_type": "code",
   "execution_count": null,
   "id": "bbec0809-7da8-452d-86f3-aee85d87b098",
   "metadata": {},
   "outputs": [],
   "source": []
  },
  {
   "cell_type": "markdown",
   "id": "302a747a-0fc2-45f8-80ec-903c6da67171",
   "metadata": {},
   "source": [
    "## TASK3: 리텐션 라이프사이클에 따른 User Group 분포 &rarr; Nested Pie Chart"
   ]
  },
  {
   "cell_type": "code",
   "execution_count": null,
   "id": "15a3304a-0c2d-4bcb-8da0-454b211d94e1",
   "metadata": {},
   "outputs": [],
   "source": []
  }
 ],
 "metadata": {
  "kernelspec": {
   "display_name": "Python 3 (ipykernel)",
   "language": "python",
   "name": "python3"
  },
  "language_info": {
   "codemirror_mode": {
    "name": "ipython",
    "version": 3
   },
   "file_extension": ".py",
   "mimetype": "text/x-python",
   "name": "python",
   "nbconvert_exporter": "python",
   "pygments_lexer": "ipython3",
   "version": "3.9.6"
  }
 },
 "nbformat": 4,
 "nbformat_minor": 5
}
