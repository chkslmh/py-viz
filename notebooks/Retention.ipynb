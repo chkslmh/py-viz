{
 "cells": [
  {
   "cell_type": "markdown",
   "metadata": {},
   "source": [
    "> Ref: Amplitude의 [Product Analytics Playbook: Mastering Retention](https://www.productanalyticsplaybook.com/#top)\n",
    "\n",
    "위의 내용 中 1. **리텐션 커브** 2. **리텐션 라이프사이클 프레임워크** 에 대한 분석 및 시각화 작업과 이를 파이프라인화 할 수 있는 메소드를 만들어본다."
   ]
  },
  {
   "cell_type": "markdown",
   "metadata": {},
   "source": [
    "# 1. 데이터 가공 단계"
   ]
  },
  {
   "cell_type": "markdown",
   "metadata": {},
   "source": [
    "- 소스가 되는 데이터의 형태는 웹/앱에서 발생하는 이벤트 로그를 가정\n",
    "- 이벤트 로그를 기반으로 리텐션 분석이 가능한 형태의 테이블 만들기\n",
    "- 데이터 처리는 pyspark를 통해 진행"
   ]
  },
  {
   "cell_type": "code",
   "execution_count": 1,
   "metadata": {
    "ExecuteTime": {
     "end_time": "2021-07-12T06:49:53.501745Z",
     "start_time": "2021-07-12T06:49:53.495377Z"
    }
   },
   "outputs": [],
   "source": [
    "import os\n",
    "# os.environ[\"PYSPARK_PYTHON\"] = \"/opt/homebrew/bin/python3\""
   ]
  },
  {
   "cell_type": "code",
   "execution_count": 2,
   "metadata": {
    "ExecuteTime": {
     "end_time": "2021-07-12T06:49:53.617967Z",
     "start_time": "2021-07-12T06:49:53.503804Z"
    }
   },
   "outputs": [],
   "source": [
    "from pyspark.sql import SparkSession, Row, DataFrame\n",
    "from pyspark import SparkContext"
   ]
  },
  {
   "cell_type": "code",
   "execution_count": 3,
   "metadata": {
    "ExecuteTime": {
     "end_time": "2021-07-12T06:49:57.036839Z",
     "start_time": "2021-07-12T06:49:53.619439Z"
    },
    "scrolled": true,
    "tags": []
   },
   "outputs": [
    {
     "name": "stderr",
     "output_type": "stream",
     "text": [
      "21/07/12 15:49:54 WARN Utils: Your hostname, DESKTOP-D0UBG2L resolves to a loopback address: 127.0.1.1; using 172.21.193.13 instead (on interface eth0)\n",
      "21/07/12 15:49:54 WARN Utils: Set SPARK_LOCAL_IP if you need to bind to another address\n",
      "21/07/12 15:49:55 WARN NativeCodeLoader: Unable to load native-hadoop library for your platform... using builtin-java classes where applicable\n",
      "Using Spark's default log4j profile: org/apache/spark/log4j-defaults.properties\n",
      "Setting default log level to \"WARN\".\n",
      "To adjust logging level use sc.setLogLevel(newLevel). For SparkR, use setLogLevel(newLevel).\n"
     ]
    }
   ],
   "source": [
    "MAX_MEMORY = \"32g\"\n",
    "SPARK = (\n",
    "    SparkSession.builder.appName(\"Plots Tutorial Shell\")\n",
    "    .config(\"spark.driver.host\", \"localhost\")\n",
    "    .config(\"spark.driver.memory\", MAX_MEMORY)\n",
    "    .config(\"spark.sql.session.timeZone\", \"Asia/Seoul\")\n",
    "    .config(\"spark.driver.extraJavaOptions\", \"-Duser.timezone=Asia/Seoul\")\n",
    "    .config(\"spark.executor.extraJavaOptions\", \"-Duser.timezone=Asia/Seoul\")\n",
    "    .getOrCreate()\n",
    ")"
   ]
  },
  {
   "cell_type": "code",
   "execution_count": 4,
   "metadata": {
    "ExecuteTime": {
     "end_time": "2021-07-12T06:49:57.049170Z",
     "start_time": "2021-07-12T06:49:57.038976Z"
    }
   },
   "outputs": [],
   "source": [
    "from abc import ABC, abstractmethod\n",
    "\n",
    "from pyspark.sql import DataFrame, SparkSession\n",
    "from pyspark.sql.functions import col\n",
    "from pyspark.sql.types import StringType, StructField, StructType, TimestampType\n",
    "\n",
    "\n",
    "class DataMart(ABC):\n",
    "    schema: StructType\n",
    "\n",
    "    def __init__(self, spark: SparkSession):\n",
    "        self.spark = spark\n",
    "\n",
    "    @abstractmethod\n",
    "    def df(self, **kwargs) -> DataFrame:\n",
    "        raise NotImplementedError()\n",
    "\n",
    "    def fix_schema(self, df: DataFrame) -> DataFrame:\n",
    "        select_expr_list = []\n",
    "        for field in self.schema:\n",
    "            select_expr_list.append(col(field.name).cast(field.dataType))\n",
    "\n",
    "        return df.select(*select_expr_list)\n",
    "\n",
    "\n",
    "class EventMart(DataMart):\n",
    "    event_name: str\n",
    "\n",
    "    schema = StructType(\n",
    "        [\n",
    "            StructField(\"timestamp\", TimestampType()),\n",
    "            StructField(\"user_id\", StringType()),\n",
    "            StructField(\"event_name\", StringType()),\n",
    "        ]\n",
    "    )"
   ]
  },
  {
   "cell_type": "code",
   "execution_count": 5,
   "metadata": {
    "ExecuteTime": {
     "end_time": "2021-07-12T06:49:57.053326Z",
     "start_time": "2021-07-12T06:49:57.050747Z"
    }
   },
   "outputs": [],
   "source": [
    "import datetime"
   ]
  },
  {
   "cell_type": "code",
   "execution_count": 6,
   "metadata": {
    "ExecuteTime": {
     "end_time": "2021-07-12T06:49:57.064426Z",
     "start_time": "2021-07-12T06:49:57.054893Z"
    }
   },
   "outputs": [],
   "source": [
    "# event log samples\n",
    "class SampleEventMart(EventMart):\n",
    "    event_name = \"chat\"\n",
    "\n",
    "    def df(self):\n",
    "        df = self.spark.createDataFrame(\n",
    "            [\n",
    "                Row(timestamp=datetime.datetime(2021, 7, 1, 1, 1, 1), user_id=\"3215\", event_name=\"chat\"),\n",
    "                Row(timestamp=datetime.datetime(2021, 7, 1, 1, 1, 1), user_id=\"1400\", event_name=\"chat\"),\n",
    "                Row(timestamp=datetime.datetime(2021, 7, 1, 1, 1, 1), user_id=\"1000\", event_name=\"chat\"),\n",
    "                Row(timestamp=datetime.datetime(2021, 7, 1, 1, 1, 1), user_id=\"800\", event_name=\"chat\"),\n",
    "                Row(timestamp=datetime.datetime(2021, 7, 1, 1, 1, 1), user_id=\"600\", event_name=\"chat\"),\n",
    "                Row(timestamp=datetime.datetime(2021, 7, 1, 1, 1, 1), user_id=\"580\", event_name=\"chat\"),\n",
    "                Row(timestamp=datetime.datetime(2021, 7, 1, 1, 1, 1), user_id=\"582\", event_name=\"chat\"),\n",
    "                Row(timestamp=datetime.datetime(2021, 7, 1, 1, 1, 1), user_id=\"550\", event_name=\"chat\"),\n",
    "                Row(timestamp=datetime.datetime(2021, 7, 2, 1, 1, 1), user_id=\"3215\", event_name=\"chat\"),\n",
    "                Row(timestamp=datetime.datetime(2021, 7, 2, 1, 1, 1), user_id=\"1400\", event_name=\"chat\"),\n",
    "                Row(timestamp=datetime.datetime(2021, 7, 2, 1, 1, 1), user_id=\"1000\", event_name=\"chat\"),\n",
    "                Row(timestamp=datetime.datetime(2021, 7, 3, 1, 1, 1), user_id=\"3215\", event_name=\"chat\"),\n",
    "                Row(timestamp=datetime.datetime(2021, 7, 4, 1, 1, 1), user_id=\"1400\", event_name=\"chat\"),\n",
    "                Row(timestamp=datetime.datetime(2021, 7, 3, 1, 1, 1), user_id=\"1000\", event_name=\"chat\"),\n",
    "                Row(timestamp=datetime.datetime(2021, 7, 3, 1, 1, 1), user_id=\"800\", event_name=\"chat\"),\n",
    "                Row(timestamp=datetime.datetime(2021, 7, 3, 1, 1, 1), user_id=\"600\", event_name=\"chat\"),\n",
    "                Row(timestamp=datetime.datetime(2021, 7, 4, 1, 1, 1), user_id=\"580\", event_name=\"chat\"),\n",
    "                Row(timestamp=datetime.datetime(2021, 7, 5, 1, 1, 1), user_id=\"582\", event_name=\"chat\"),\n",
    "                Row(timestamp=datetime.datetime(2021, 7, 6, 1, 1, 1), user_id=\"550\", event_name=\"chat\"),\n",
    "            ]\n",
    "        )\n",
    "\n",
    "        return self.fix_schema(df=df)\n",
    "\n",
    "sample_event_mart = SampleEventMart(spark=SPARK)"
   ]
  },
  {
   "cell_type": "markdown",
   "metadata": {},
   "source": [
    "## TASK1: 특정 이벤트 발생을 기준으로 유저 리텐션 측정"
   ]
  },
  {
   "cell_type": "code",
   "execution_count": 7,
   "metadata": {
    "ExecuteTime": {
     "end_time": "2021-07-12T06:49:57.070997Z",
     "start_time": "2021-07-12T06:49:57.065972Z"
    }
   },
   "outputs": [],
   "source": [
    "import datetime\n",
    "from collections import defaultdict\n",
    "from math import floor\n",
    "from typing import Dict, Iterable, List, Literal, Optional, Union\n",
    "\n",
    "from pyspark.sql import DataFrame, Row, SparkSession\n",
    "from pyspark.sql import Window as W\n",
    "from pyspark.sql import functions as F\n",
    "from pyspark.sql import types as T"
   ]
  },
  {
   "cell_type": "markdown",
   "metadata": {},
   "source": [
    "Retention 측정 방법 세 가지\n",
    "1. N-Day\n",
    "2. Bracket\n",
    "3. Unbounded"
   ]
  },
  {
   "cell_type": "code",
   "execution_count": 8,
   "metadata": {
    "ExecuteTime": {
     "end_time": "2021-07-12T06:49:57.076639Z",
     "start_time": "2021-07-12T06:49:57.072971Z"
    }
   },
   "outputs": [],
   "source": [
    "RetentionType = Union[Literal[\"N-Day\"], Literal[\"Bracket\"], Literal[\"Unbounded\"]]"
   ]
  },
  {
   "cell_type": "code",
   "execution_count": 9,
   "metadata": {
    "ExecuteTime": {
     "end_time": "2021-07-12T06:49:57.102836Z",
     "start_time": "2021-07-12T06:49:57.078253Z"
    },
    "tags": []
   },
   "outputs": [],
   "source": [
    "class RetentionMart(DataMart):\n",
    "    schema = T.StructType(\n",
    "        [\n",
    "            T.StructField(\"event_name\", T.StringType()),\n",
    "            T.StructField(\"retention_type\", T.StringType()),\n",
    "            T.StructField(\"period_index\", T.IntegerType()),\n",
    "            T.StructField(\n",
    "                \"date_period\",\n",
    "                T.StructType(\n",
    "                    [\n",
    "                        T.StructField(\"from\", T.DateType()),\n",
    "                        T.StructField(\"to\", T.DateType()),\n",
    "                    ]\n",
    "                ),\n",
    "            ),\n",
    "            T.StructField(\"num_users\", T.IntegerType()),\n",
    "            T.StructField(\"retention_rate\", T.FloatType()),\n",
    "        ]\n",
    "    )\n",
    "\n",
    "    template_schema = T.StructType(\n",
    "        [\n",
    "            T.StructField(\"retention_type\", T.StringType()),\n",
    "            T.StructField(\"period_index\", T.IntegerType()),\n",
    "            T.StructField(\n",
    "                \"date_period\",\n",
    "                T.StructType(\n",
    "                    [\n",
    "                        T.StructField(\"from\", T.DateType()),\n",
    "                        T.StructField(\"to\", T.DateType()),\n",
    "                    ]\n",
    "                ),\n",
    "            ),\n",
    "        ]\n",
    "    )\n",
    "\n",
    "    def __init__(self, spark: SparkSession, type: RetentionType):\n",
    "        self.spark = spark\n",
    "        self.type = type\n",
    "\n",
    "    def nday(\n",
    "        self,\n",
    "        event_df: DataFrame,\n",
    "        start_date: datetime.date,\n",
    "        end_date: datetime.date,\n",
    "    ) -> DataFrame:\n",
    "        window_size = (end_date - start_date).days + 1\n",
    "        template = self.spark.createDataFrame(\n",
    "            [\n",
    "                Row(\n",
    "                    retention_type=self.type,\n",
    "                    period_index=i,\n",
    "                    date_period={\n",
    "                        \"from\": start_date + datetime.timedelta(days=i),\n",
    "                        \"to\": start_date + datetime.timedelta(days=i),\n",
    "                    },\n",
    "                )\n",
    "                for i in range(window_size)\n",
    "            ],\n",
    "            schema=self.template_schema,\n",
    "        )\n",
    "\n",
    "        df_with_date = event_df.withColumn(\n",
    "            \"date\", F.col(\"timestamp\").cast(T.DateType())\n",
    "        )\n",
    "\n",
    "        cohort_members = list(\n",
    "            set(\n",
    "                row.user_id\n",
    "                for row in df_with_date.filter(F.col(\"date\") == start_date)\n",
    "                .select(\"user_id\")\n",
    "                .collect()\n",
    "            )\n",
    "        )\n",
    "\n",
    "        df_filtered = df_with_date.filter(\n",
    "            (F.col(\"date\") >= start_date) & (F.col(\"date\") <= end_date)\n",
    "        ).filter(F.col(\"user_id\").isin(cohort_members))\n",
    "\n",
    "        df_grouped = (\n",
    "            df_filtered.groupBy(\"event_name\", \"date\")\n",
    "            .agg(F.size(F.collect_set(\"user_id\")).alias(\"num_users\"))\n",
    "            .withColumn(\n",
    "                \"period_index\",\n",
    "                F.row_number().over(W.orderBy(\"date\")) - 1,\n",
    "            )\n",
    "        )\n",
    "\n",
    "        retention_df = (\n",
    "            template.join(\n",
    "                df_grouped.select(\n",
    "                    \"event_name\",\n",
    "                    \"period_index\",\n",
    "                    \"num_users\",\n",
    "                ),\n",
    "                on=[\"period_index\"],\n",
    "                how=\"left\",\n",
    "            )\n",
    "            .fillna(subset=[\"num_users\"], value=0)\n",
    "            .withColumn(\"retention_rate\", F.col(\"num_users\") / len(cohort_members))\n",
    "            .orderBy(\"period_index\")\n",
    "        )\n",
    "\n",
    "        return retention_df\n",
    "\n",
    "    def get_date_brackets(\n",
    "        self,\n",
    "        start_date: datetime.date,\n",
    "        end_date: datetime.date,\n",
    "        bracket_sizes: List[int],\n",
    "    ) -> List[Dict[str, datetime.date]]:\n",
    "        idx = 0\n",
    "        lower = start_date\n",
    "        upper = min(\n",
    "            [start_date + datetime.timedelta(days=bracket_sizes[idx] - 1), end_date]\n",
    "        )\n",
    "        brackets = [{\"from\": lower, \"to\": upper}]\n",
    "        while idx + 1 < len(bracket_sizes) and upper < end_date:\n",
    "            idx += 1\n",
    "            lower = upper + datetime.timedelta(days=1)\n",
    "            upper = min([upper + datetime.timedelta(days=bracket_sizes[idx]), end_date])\n",
    "            brackets.append({\"from\": lower, \"to\": upper})\n",
    "\n",
    "        return brackets\n",
    "\n",
    "    def bracket(\n",
    "        self,\n",
    "        event_df: DataFrame,\n",
    "        start_date: datetime.date,\n",
    "        end_date: datetime.date,\n",
    "        bracket_size: Optional[int],\n",
    "        custom_bracket_sizes: Optional[List[int]],\n",
    "    ) -> DataFrame:\n",
    "        if custom_bracket_sizes:\n",
    "            _brackets = self.get_date_brackets(\n",
    "                start_date=start_date,\n",
    "                end_date=end_date,\n",
    "                bracket_sizes=custom_bracket_sizes,\n",
    "            )\n",
    "        elif bracket_size:\n",
    "            window_size = (end_date - start_date).days + 1\n",
    "            bracket_sizes = [bracket_size] * floor(window_size / bracket_size)\n",
    "            bracket_sizes += [window_size - sum(bracket_sizes)]\n",
    "            _brackets = self.get_date_brackets(\n",
    "                start_date=start_date,\n",
    "                end_date=end_date,\n",
    "                bracket_sizes=bracket_sizes,\n",
    "            )\n",
    "        else:\n",
    "            raise TypeError(\"bracket_size or custom_brack_sizes needed\")\n",
    "\n",
    "        template = self.spark.createDataFrame(\n",
    "            [\n",
    "                Row(retention_type=self.type, period_index=idx, date_period=bracket)\n",
    "                for idx, bracket in enumerate(_brackets)\n",
    "            ],\n",
    "            schema=self.template_schema,\n",
    "        )\n",
    "\n",
    "        df_with_date = event_df.withColumn(\n",
    "            \"date\", F.col(\"timestamp\").cast(T.DateType())\n",
    "        )\n",
    "\n",
    "        cohort_members = list(\n",
    "            set(\n",
    "                row.user_id\n",
    "                for row in (\n",
    "                    df_with_date.filter(\n",
    "                        (F.col(\"date\") >= _brackets[0][\"from\"])\n",
    "                        & (F.col(\"date\") <= _brackets[0][\"to\"])\n",
    "                    )\n",
    "                    .select(\"user_id\")\n",
    "                    .collect()\n",
    "                )\n",
    "            )\n",
    "        )\n",
    "\n",
    "        df_filtered = df_with_date.filter(\n",
    "            (F.col(\"date\") >= start_date) & (F.col(\"date\") <= end_date)\n",
    "        ).filter(F.col(\"user_id\").isin(cohort_members))\n",
    "\n",
    "        @F.udf(T.IntegerType())\n",
    "        def bracket_mapper(date: datetime.date):\n",
    "            for idx, bracket in enumerate(_brackets):\n",
    "                if date >= bracket[\"from\"] and date <= bracket[\"to\"]:\n",
    "                    return idx\n",
    "\n",
    "        df_grouped = (\n",
    "            df_filtered.withColumn(\"period_index\", bracket_mapper(F.col(\"date\")))\n",
    "            .groupBy(\"event_name\", \"period_index\")\n",
    "            .agg(F.size(F.collect_set(\"user_id\")).alias(\"num_users\"))\n",
    "        )\n",
    "\n",
    "        retention_df = (\n",
    "            template.join(\n",
    "                df_grouped.select(\n",
    "                    \"event_name\",\n",
    "                    \"period_index\",\n",
    "                    \"num_users\",\n",
    "                ),\n",
    "                on=[\"period_index\"],\n",
    "                how=\"left\",\n",
    "            )\n",
    "            .fillna(subset=[\"num_users\"], value=0)\n",
    "            .withColumn(\"retention_rate\", F.col(\"num_users\") / len(cohort_members))\n",
    "            .orderBy(\"period_index\")\n",
    "        )\n",
    "\n",
    "        return retention_df\n",
    "\n",
    "    def unbounded(\n",
    "        self,\n",
    "        event_df: DataFrame,\n",
    "        start_date: datetime.date,\n",
    "        end_date: datetime.date,\n",
    "    ) -> DataFrame:\n",
    "        window_size = (end_date - start_date).days + 1\n",
    "        template = self.spark.createDataFrame(\n",
    "            [\n",
    "                Row(\n",
    "                    retention_type=self.type,\n",
    "                    period_index=i,\n",
    "                    date_period={\n",
    "                        \"from\": start_date + datetime.timedelta(days=i),\n",
    "                        \"to\": start_date + datetime.timedelta(days=i),\n",
    "                    },\n",
    "                )\n",
    "                for i in range(window_size)\n",
    "            ],\n",
    "            schema=self.template_schema,\n",
    "        )\n",
    "\n",
    "        df_with_date = event_df.withColumn(\n",
    "            \"date\", F.col(\"timestamp\").cast(T.DateType())\n",
    "        )\n",
    "\n",
    "        cohort_members = list(\n",
    "            set(\n",
    "                row.user_id\n",
    "                for row in df_with_date.filter(F.col(\"date\") == start_date)\n",
    "                .select(\"user_id\")\n",
    "                .collect()\n",
    "            )\n",
    "        )\n",
    "\n",
    "        df_filtered = df_with_date.filter(\n",
    "            (F.col(\"date\") >= start_date) & (F.col(\"date\") <= end_date)\n",
    "        ).filter(F.col(\"user_id\").isin(cohort_members))\n",
    "\n",
    "        df_grouped = (\n",
    "            df_filtered.withColumn(\n",
    "                \"num_users\",\n",
    "                F.size(\n",
    "                    F.collect_set(\"user_id\").over(\n",
    "                        W.partitionBy()\n",
    "                        .orderBy(\"date\")\n",
    "                        .rowsBetween(W.currentRow, W.unboundedFollowing)\n",
    "                    )\n",
    "                ),\n",
    "            )\n",
    "            .dropDuplicates([\"date\"])\n",
    "            .withColumn(\n",
    "                \"period_index\",\n",
    "                F.row_number().over(W.orderBy(\"date\")) - 1,\n",
    "            )\n",
    "        )\n",
    "\n",
    "        retention_df = (\n",
    "            template.join(\n",
    "                df_grouped.select(\n",
    "                    \"event_name\",\n",
    "                    \"period_index\",\n",
    "                    \"num_users\",\n",
    "                ),\n",
    "                on=[\"period_index\"],\n",
    "                how=\"left\",\n",
    "            )\n",
    "            .fillna(subset=[\"num_users\"], value=0)\n",
    "            .withColumn(\"retention_rate\", F.col(\"num_users\") / len(cohort_members))\n",
    "            .orderBy(\"period_index\")\n",
    "        )\n",
    "\n",
    "        return retention_df\n",
    "\n",
    "    def df(\n",
    "        self,\n",
    "        event_mart: EventMart,\n",
    "        start_date: datetime.date,\n",
    "        end_date: datetime.date,\n",
    "        bracket_size: Optional[int] = None,\n",
    "        custom_bracket_sizes: Optional[List[int]] = None,\n",
    "    ) -> DataFrame:\n",
    "        if self.type == \"N-Day\":\n",
    "            retention_df = self.nday(\n",
    "                event_df=event_mart.df(),\n",
    "                start_date=start_date,\n",
    "                end_date=end_date,\n",
    "            )\n",
    "        elif self.type == \"Bracket\":\n",
    "            retention_df = self.bracket(\n",
    "                event_df=event_mart.df(),\n",
    "                start_date=start_date,\n",
    "                end_date=end_date,\n",
    "                bracket_size=bracket_size,\n",
    "                custom_bracket_sizes=custom_bracket_sizes,\n",
    "            )\n",
    "        elif self.type == \"Unbounded\":\n",
    "            retention_df = self.unbounded(\n",
    "                event_df=event_mart.df(),\n",
    "                start_date=start_date,\n",
    "                end_date=end_date,\n",
    "            )\n",
    "        else:\n",
    "            raise TypeError(\"Retention type undefined\")\n",
    "\n",
    "        return self.fix_schema(df=retention_df)"
   ]
  },
  {
   "cell_type": "markdown",
   "metadata": {},
   "source": [
    "### N-day 방식 샘플"
   ]
  },
  {
   "cell_type": "code",
   "execution_count": 10,
   "metadata": {
    "ExecuteTime": {
     "end_time": "2021-07-12T06:49:57.109577Z",
     "start_time": "2021-07-12T06:49:57.105540Z"
    }
   },
   "outputs": [],
   "source": [
    "retention_mart = RetentionMart(spark=SPARK, type=\"N-Day\")"
   ]
  },
  {
   "cell_type": "code",
   "execution_count": 11,
   "metadata": {
    "ExecuteTime": {
     "end_time": "2021-07-12T06:50:00.467581Z",
     "start_time": "2021-07-12T06:49:57.111079Z"
    }
   },
   "outputs": [
    {
     "name": "stderr",
     "output_type": "stream",
     "text": [
      "                                                                                \r"
     ]
    }
   ],
   "source": [
    "retention_df = retention_mart.df(\n",
    "    event_mart=sample_event_mart, \n",
    "    start_date=datetime.date(2021, 7, 1), \n",
    "    end_date=datetime.date(2021, 7, 6)\n",
    ")"
   ]
  },
  {
   "cell_type": "code",
   "execution_count": 12,
   "metadata": {
    "ExecuteTime": {
     "end_time": "2021-07-12T06:50:01.900759Z",
     "start_time": "2021-07-12T06:50:00.469063Z"
    }
   },
   "outputs": [
    {
     "name": "stderr",
     "output_type": "stream",
     "text": [
      "21/07/12 15:50:00 WARN WindowExec: No Partition Defined for Window operation! Moving all data to a single partition, this can cause serious performance degradation.\n"
     ]
    },
    {
     "name": "stdout",
     "output_type": "stream",
     "text": [
      "+----------+--------------+------------+------------------------+---------+--------------+\n",
      "|event_name|retention_type|period_index|date_period             |num_users|retention_rate|\n",
      "+----------+--------------+------------+------------------------+---------+--------------+\n",
      "|chat      |N-Day         |0           |[2021-07-01, 2021-07-01]|8        |1.0           |\n",
      "|chat      |N-Day         |1           |[2021-07-02, 2021-07-02]|3        |0.375         |\n",
      "|chat      |N-Day         |2           |[2021-07-03, 2021-07-03]|4        |0.5           |\n",
      "|chat      |N-Day         |3           |[2021-07-04, 2021-07-04]|2        |0.25          |\n",
      "|chat      |N-Day         |4           |[2021-07-05, 2021-07-05]|1        |0.125         |\n",
      "|chat      |N-Day         |5           |[2021-07-06, 2021-07-06]|1        |0.125         |\n",
      "+----------+--------------+------------+------------------------+---------+--------------+\n",
      "\n"
     ]
    }
   ],
   "source": [
    "retention_df.show(20, False)"
   ]
  },
  {
   "cell_type": "markdown",
   "metadata": {},
   "source": [
    "### Bracket 방식 샘플"
   ]
  },
  {
   "cell_type": "code",
   "execution_count": 13,
   "metadata": {
    "ExecuteTime": {
     "end_time": "2021-07-12T06:50:01.905311Z",
     "start_time": "2021-07-12T06:50:01.902470Z"
    }
   },
   "outputs": [],
   "source": [
    "retention_mart = RetentionMart(spark=SPARK, type=\"Bracket\")"
   ]
  },
  {
   "cell_type": "code",
   "execution_count": 14,
   "metadata": {
    "ExecuteTime": {
     "end_time": "2021-07-12T06:50:02.292695Z",
     "start_time": "2021-07-12T06:50:01.908048Z"
    }
   },
   "outputs": [],
   "source": [
    "retention_df = retention_mart.df(\n",
    "    event_mart=sample_event_mart, \n",
    "    start_date=datetime.date(2021, 7, 1), \n",
    "    end_date=datetime.date(2021, 7, 6),\n",
    "    bracket_size=2\n",
    ")"
   ]
  },
  {
   "cell_type": "code",
   "execution_count": 15,
   "metadata": {
    "ExecuteTime": {
     "end_time": "2021-07-12T06:50:03.274349Z",
     "start_time": "2021-07-12T06:50:02.294460Z"
    }
   },
   "outputs": [
    {
     "name": "stdout",
     "output_type": "stream",
     "text": [
      "+----------+--------------+------------+------------------------+---------+--------------+\n",
      "|event_name|retention_type|period_index|date_period             |num_users|retention_rate|\n",
      "+----------+--------------+------------+------------------------+---------+--------------+\n",
      "|chat      |Bracket       |0           |[2021-07-01, 2021-07-02]|8        |1.0           |\n",
      "|chat      |Bracket       |1           |[2021-07-03, 2021-07-04]|6        |0.75          |\n",
      "|chat      |Bracket       |2           |[2021-07-05, 2021-07-06]|2        |0.25          |\n",
      "+----------+--------------+------------+------------------------+---------+--------------+\n",
      "\n"
     ]
    }
   ],
   "source": [
    "retention_df.show(20, False)"
   ]
  },
  {
   "cell_type": "markdown",
   "metadata": {},
   "source": [
    "### Unbounded 방식 샘플"
   ]
  },
  {
   "cell_type": "code",
   "execution_count": 16,
   "metadata": {
    "ExecuteTime": {
     "end_time": "2021-07-12T06:50:03.279219Z",
     "start_time": "2021-07-12T06:50:03.276182Z"
    }
   },
   "outputs": [],
   "source": [
    "retention_mart = RetentionMart(spark=SPARK, type=\"Unbounded\")"
   ]
  },
  {
   "cell_type": "code",
   "execution_count": 17,
   "metadata": {
    "ExecuteTime": {
     "end_time": "2021-07-12T06:50:03.605148Z",
     "start_time": "2021-07-12T06:50:03.281272Z"
    }
   },
   "outputs": [],
   "source": [
    "retention_df = retention_mart.df(\n",
    "    event_mart=sample_event_mart, \n",
    "    start_date=datetime.date(2021, 7, 1), \n",
    "    end_date=datetime.date(2021, 7, 6),\n",
    ")"
   ]
  },
  {
   "cell_type": "code",
   "execution_count": 18,
   "metadata": {
    "ExecuteTime": {
     "end_time": "2021-07-12T06:50:04.154123Z",
     "start_time": "2021-07-12T06:50:03.607140Z"
    }
   },
   "outputs": [
    {
     "name": "stderr",
     "output_type": "stream",
     "text": [
      "21/07/12 15:50:03 WARN WindowExec: No Partition Defined for Window operation! Moving all data to a single partition, this can cause serious performance degradation.\n",
      "21/07/12 15:50:03 WARN WindowExec: No Partition Defined for Window operation! Moving all data to a single partition, this can cause serious performance degradation.\n"
     ]
    },
    {
     "name": "stdout",
     "output_type": "stream",
     "text": [
      "+----------+--------------+------------+------------------------+---------+--------------+\n",
      "|event_name|retention_type|period_index|date_period             |num_users|retention_rate|\n",
      "+----------+--------------+------------+------------------------+---------+--------------+\n",
      "|chat      |Unbounded     |0           |[2021-07-01, 2021-07-01]|8        |1.0           |\n",
      "|chat      |Unbounded     |1           |[2021-07-02, 2021-07-02]|8        |1.0           |\n",
      "|chat      |Unbounded     |2           |[2021-07-03, 2021-07-03]|8        |1.0           |\n",
      "|chat      |Unbounded     |3           |[2021-07-04, 2021-07-04]|4        |0.5           |\n",
      "|chat      |Unbounded     |4           |[2021-07-05, 2021-07-05]|2        |0.25          |\n",
      "|chat      |Unbounded     |5           |[2021-07-06, 2021-07-06]|1        |0.125         |\n",
      "+----------+--------------+------------+------------------------+---------+--------------+\n",
      "\n"
     ]
    }
   ],
   "source": [
    "retention_df.show(20, False)"
   ]
  },
  {
   "cell_type": "markdown",
   "metadata": {},
   "source": [
    "## TASK2: 리텐션 라이프사이클에 따른 유저 그룹 분류"
   ]
  },
  {
   "cell_type": "markdown",
   "metadata": {},
   "source": [
    "1. New Users\n",
    "2. Current Users(+Power Users)\n",
    "3. Resurrected Users\n",
    "4. Dormant Users"
   ]
  },
  {
   "cell_type": "markdown",
   "metadata": {},
   "source": [
    "유저 그룹 분류를 위해서는 이벤트 유형에 따른 유저의 리텐션 주기를 미리 파악하고 있어야 함\n",
    "\n",
    "*chat 이벤트의 주기는 하루(daily)로 가정*"
   ]
  },
  {
   "cell_type": "code",
   "execution_count": 19,
   "metadata": {
    "ExecuteTime": {
     "end_time": "2021-07-12T06:50:04.171797Z",
     "start_time": "2021-07-12T06:50:04.156529Z"
    }
   },
   "outputs": [],
   "source": [
    "class UserGroupMart(DataMart):\n",
    "    schema = T.StructType(\n",
    "        [\n",
    "            T.StructField(\"event_name\", T.StringType()),\n",
    "            T.StructField(\"date\", T.DateType()),\n",
    "            T.StructField(\"new_users\", T.IntegerType()),\n",
    "            T.StructField(\"current_users\", T.IntegerType()),\n",
    "            T.StructField(\"resurrected_users\", T.IntegerType()),\n",
    "            T.StructField(\"dormant_users\", T.IntegerType()),\n",
    "        ]\n",
    "    )\n",
    "\n",
    "    def get_intervals(\n",
    "        self,\n",
    "        today: datetime.date,\n",
    "        retention_cycle: int,\n",
    "    ) -> Iterable[List[datetime.date]]:\n",
    "        current_interval = []\n",
    "        for i in range(retention_cycle):\n",
    "            current_interval.append(today - datetime.timedelta(days=i))\n",
    "        current_interval.sort()\n",
    "\n",
    "        previous_interval = []\n",
    "        for j in range(retention_cycle, retention_cycle * 2):\n",
    "            previous_interval.append(today - datetime.timedelta(days=j))\n",
    "        previous_interval.sort()\n",
    "\n",
    "        return previous_interval, current_interval\n",
    "\n",
    "    def df(\n",
    "        self,\n",
    "        event_mart: EventMart,\n",
    "        cycle_days: int,\n",
    "        start_date: datetime.date,\n",
    "        end_date: datetime.date,\n",
    "    ) -> DataFrame:\n",
    "        df_filtered = (\n",
    "            event_mart.df()\n",
    "            .withColumn(\"date\", F.col(\"timestamp\").cast(T.DateType()))\n",
    "            .filter((F.col(\"date\") >= start_date) & (F.col(\"date\") <= end_date))\n",
    "        )\n",
    "\n",
    "        df_grouped = (\n",
    "            df_filtered.withColumn(\n",
    "                \"new_user_flag\",\n",
    "                F.when(\n",
    "                    F.min(\"timestamp\").over(W.partitionBy(\"user_id\"))\n",
    "                    == F.col(\"timestamp\"),\n",
    "                    F.col(\"user_id\"),\n",
    "                ).otherwise(F.lit(None)),\n",
    "            )\n",
    "            .withColumn(\n",
    "                \"all_users_so_far\",\n",
    "                F.collect_set(\"user_id\").over(\n",
    "                    W.partitionBy()\n",
    "                    .orderBy(\"timestamp\")\n",
    "                    .rowsBetween(W.unboundedPreceding, W.currentRow)\n",
    "                ),\n",
    "            )\n",
    "            .orderBy(\"timestamp\")\n",
    "            .groupBy(\"event_name\", \"date\")\n",
    "            .agg(\n",
    "                F.collect_set(\"user_id\").alias(\"active_users\"),\n",
    "                F.collect_set(\"new_user_flag\").alias(\"new_users\"),\n",
    "                F.last(\"all_users_so_far\").alias(\"user_pool\"),\n",
    "            )\n",
    "        )\n",
    "\n",
    "        daily_user_groups = {\n",
    "            row.date: {\n",
    "                \"active_users\": row.active_users,\n",
    "                \"new_users\": row.new_users,\n",
    "                \"user_pool\": row.user_pool,\n",
    "            }\n",
    "            for row in df_grouped.collect()\n",
    "        }\n",
    "\n",
    "        date_range = [\n",
    "            start_date + datetime.timedelta(days=i)\n",
    "            for i in range((end_date - start_date).days + 1)\n",
    "        ]\n",
    "        user_segmentations = defaultdict(dict)\n",
    "        for date in date_range:\n",
    "            previous_interval, current_interval = self.get_intervals(\n",
    "                today=date, retention_cycle=cycle_days\n",
    "            )\n",
    "\n",
    "            # 1. New Users & Active Users\n",
    "            new_users = set()\n",
    "            active_users = set()\n",
    "            for _date in set(current_interval) & set(date_range):\n",
    "                new_users |= set(daily_user_groups[_date][\"new_users\"])\n",
    "                active_users |= set(daily_user_groups[_date][\"active_users\"])\n",
    "\n",
    "            user_segmentations[date][\"new_users\"] = new_users\n",
    "\n",
    "            # 2. Current Users\n",
    "            was_active_users = set()\n",
    "            for _date in set(previous_interval) & set(date_range):\n",
    "                if _date not in date_range:\n",
    "                    continue\n",
    "                was_active_users |= set(daily_user_groups[_date][\"active_users\"])\n",
    "\n",
    "            user_segmentations[date][\"current_users\"] = active_users & was_active_users\n",
    "\n",
    "            # 3. Resurrected Users\n",
    "            user_segmentations[date][\"resurrected_users\"] = (\n",
    "                active_users - was_active_users - new_users\n",
    "            )\n",
    "\n",
    "            # 4. Dormant Users\n",
    "            user_pool_so_far = set(daily_user_groups[date][\"user_pool\"])\n",
    "\n",
    "            user_segmentations[date][\"dormant_users\"] = user_pool_so_far - active_users\n",
    "\n",
    "        user_group_df = self.spark.createDataFrame(\n",
    "            [\n",
    "                Row(\n",
    "                    event_name=event_mart.event_name,\n",
    "                    date=date,\n",
    "                    new_users=len(user_groups[\"new_users\"]),\n",
    "                    current_users=len(user_groups[\"current_users\"]),\n",
    "                    resurrected_users=len(user_groups[\"resurrected_users\"]),\n",
    "                    dormant_users=len(user_groups[\"dormant_users\"]),\n",
    "                )\n",
    "                for date, user_groups in user_segmentations.items()\n",
    "            ]\n",
    "        )\n",
    "\n",
    "        return self.fix_schema(df=user_group_df)"
   ]
  },
  {
   "cell_type": "markdown",
   "metadata": {},
   "source": [
    "### 유저 그룹 분류 샘플"
   ]
  },
  {
   "cell_type": "code",
   "execution_count": 20,
   "metadata": {
    "ExecuteTime": {
     "end_time": "2021-07-12T06:50:04.181375Z",
     "start_time": "2021-07-12T06:50:04.174784Z"
    }
   },
   "outputs": [],
   "source": [
    "user_group_mart = UserGroupMart(spark=SPARK)"
   ]
  },
  {
   "cell_type": "code",
   "execution_count": 21,
   "metadata": {
    "ExecuteTime": {
     "end_time": "2021-07-12T06:50:04.757513Z",
     "start_time": "2021-07-12T06:50:04.183445Z"
    }
   },
   "outputs": [
    {
     "name": "stderr",
     "output_type": "stream",
     "text": [
      "21/07/12 15:50:04 WARN WindowExec: No Partition Defined for Window operation! Moving all data to a single partition, this can cause serious performance degradation.\n"
     ]
    }
   ],
   "source": [
    "user_group_df = user_group_mart.df(\n",
    "    event_mart=sample_event_mart,\n",
    "    cycle_days=1,\n",
    "    start_date=datetime.date(2021, 7, 1),\n",
    "    end_date=datetime.date(2021, 7, 6)\n",
    ")"
   ]
  },
  {
   "cell_type": "code",
   "execution_count": 22,
   "metadata": {
    "ExecuteTime": {
     "end_time": "2021-07-12T06:50:04.993661Z",
     "start_time": "2021-07-12T06:50:04.759204Z"
    }
   },
   "outputs": [
    {
     "name": "stdout",
     "output_type": "stream",
     "text": [
      "+----------+----------+---------+-------------+-----------------+-------------+\n",
      "|event_name|      date|new_users|current_users|resurrected_users|dormant_users|\n",
      "+----------+----------+---------+-------------+-----------------+-------------+\n",
      "|      chat|2021-07-01|        8|            0|                0|            0|\n",
      "|      chat|2021-07-02|        0|            3|                0|            5|\n",
      "|      chat|2021-07-03|        0|            2|                2|            4|\n",
      "|      chat|2021-07-04|        0|            0|                2|            6|\n",
      "|      chat|2021-07-05|        0|            0|                1|            7|\n",
      "|      chat|2021-07-06|        0|            0|                1|            7|\n",
      "+----------+----------+---------+-------------+-----------------+-------------+\n",
      "\n"
     ]
    }
   ],
   "source": [
    "user_group_df.show()"
   ]
  },
  {
   "cell_type": "markdown",
   "metadata": {},
   "source": [
    "# 2. 시각화 단계"
   ]
  },
  {
   "cell_type": "markdown",
   "metadata": {},
   "source": [
    "- seaborn 사용해서 기본 테마 잡고\n",
    "- color 직접 지정해서 plot 커스텀할 수 있는 시각화 메소드 구현"
   ]
  },
  {
   "cell_type": "code",
   "execution_count": 23,
   "metadata": {
    "ExecuteTime": {
     "end_time": "2021-07-12T06:50:05.393615Z",
     "start_time": "2021-07-12T06:50:04.995312Z"
    }
   },
   "outputs": [],
   "source": [
    "import matplotlib.pyplot as plt\n",
    "import seaborn as sns\n",
    "import numpy as np\n",
    "\n",
    "%matplotlib inline"
   ]
  },
  {
   "cell_type": "markdown",
   "metadata": {},
   "source": [
    "## TASK1: 리텐션 커브 &rarr; Line Plot"
   ]
  },
  {
   "cell_type": "code",
   "execution_count": 24,
   "metadata": {
    "ExecuteTime": {
     "end_time": "2021-07-12T06:50:05.398300Z",
     "start_time": "2021-07-12T06:50:05.395866Z"
    }
   },
   "outputs": [],
   "source": [
    "from typing import Tuple"
   ]
  },
  {
   "cell_type": "code",
   "execution_count": 25,
   "metadata": {
    "ExecuteTime": {
     "end_time": "2021-07-12T06:50:05.409189Z",
     "start_time": "2021-07-12T06:50:05.400175Z"
    }
   },
   "outputs": [],
   "source": [
    "def plot_retention_curve(\n",
    "    retention_df: DataFrame,\n",
    "    figsize: Tuple[str],\n",
    "    facecolor: str,\n",
    "    linecolor: str,\n",
    "    linestyle: str,\n",
    "    marker: str,\n",
    "    markersize: int,\n",
    "    fontfamily: str,\n",
    "    fontcolor: str,\n",
    "    fontsize: int\n",
    ") -> plt.Figure:\n",
    "    \n",
    "    data = retention_df.orderBy(\"period_index\").select(\"period_index\", \"date_period\", \"retention_rate\", \"num_users\").collect()\n",
    "    x_period = [row.period_index for row in data]\n",
    "    xlabel_dateperiod = [row.date_period for row in data]\n",
    "    y_retention_rate = [row.retention_rate for row in data]\n",
    "    y_num_users = [row.num_users for row in data]\n",
    "    \n",
    "    sns.set_theme(\n",
    "        context=\"notebook\",\n",
    "        style=\"darkgrid\",\n",
    "        font=fontfamily,\n",
    "        rc={\n",
    "            \"figure.figsize\": figsize,\n",
    "            \"axes.facecolor\": facecolor,\n",
    "        }\n",
    "    )\n",
    "    fig = plt.figure()\n",
    "    ax = fig.subplots()\n",
    "    \n",
    "    ax.plot(\n",
    "        x_period,\n",
    "        y_retention_rate,\n",
    "        color=linecolor,\n",
    "        ls=linestyle,\n",
    "        marker=marker,\n",
    "        ms=markersize,\n",
    "    )\n",
    "\n",
    "    # Set plot title\n",
    "    ax.set_title(\"Retention Curve\", size=fontsize*1.5, color=fontcolor)\n",
    "\n",
    "    # Set x tick & label\n",
    "    ax.set_xlabel(None)\n",
    "    ax.set_xticks(x_period)\n",
    "    retention_type = retention_df.select(\"retention_type\").first().retention_type\n",
    "    if retention_type == \"Bracket\":\n",
    "        x_labels = [\n",
    "            f\"{date_period['from'].month}/{date_period['from'].day}~{date_period['to'].month}/{date_period['to'].day}\" \n",
    "            for date_period in xlabel_dateperiod\n",
    "        ]\n",
    "        ax.set_xticklabels(x_labels, fontsize=fontsize, color=fontcolor, rotation=20)\n",
    "    else:\n",
    "        x_labels = [f\"{date_period['from'].month}/{date_period['from'].day}\" for date_period in xlabel_dateperiod]\n",
    "        ax.set_xticklabels(x_labels, fontsize=fontsize, color=fontcolor)\n",
    "\n",
    "    # Set y tick & label\n",
    "    ax.set_ylabel(None)\n",
    "    ax.set_yticks(np.arange(0, 1.01, .1))\n",
    "    ax.set_yticks(np.arange(0, 1.01, .05), minor=True)\n",
    "    y_labels = [\"{:.0%}\".format(r) for r in np.arange(0, 1.01, .1)]\n",
    "    ax.set_yticklabels(y_labels, fontsize=fontsize, color=fontcolor)\n",
    "\n",
    "    # Set grid\n",
    "    ax.grid(True, which=\"major\", axis=\"y\", ls=\":\")\n",
    "    ax.grid(True, axis=\"x\", ls=\":\")\n",
    "\n",
    "    # Annotate\n",
    "    for x, y, num_users in zip(x_period, y_retention_rate, y_num_users):\n",
    "        ax.text(\n",
    "            x - 0.1, y + 0.02, f\"{int(num_users)} Users\", \n",
    "            size=fontsize, \n",
    "            color=fontcolor\n",
    "        )\n",
    "    \n",
    "    return fig"
   ]
  },
  {
   "cell_type": "code",
   "execution_count": 26,
   "metadata": {
    "ExecuteTime": {
     "end_time": "2021-07-12T06:50:05.415928Z",
     "start_time": "2021-07-12T06:50:05.411216Z"
    }
   },
   "outputs": [],
   "source": [
    "figsize = (10, 8)\n",
    "facecolor = \"#e6ecff\"\n",
    "linecolor = \"#3269ff\"\n",
    "linestyle = \":\"\n",
    "marker = \"s\"\n",
    "markersize = 10\n",
    "fontfamily = \"sans-serif\"\n",
    "fontcolor = \"#003de6\"\n",
    "fontsize = 12"
   ]
  },
  {
   "cell_type": "code",
   "execution_count": 27,
   "metadata": {
    "ExecuteTime": {
     "end_time": "2021-07-12T06:50:06.826148Z",
     "start_time": "2021-07-12T06:50:05.417620Z"
    }
   },
   "outputs": [
    {
     "name": "stderr",
     "output_type": "stream",
     "text": [
      "21/07/12 15:50:05 WARN WindowExec: No Partition Defined for Window operation! Moving all data to a single partition, this can cause serious performance degradation.\n",
      "21/07/12 15:50:05 WARN WindowExec: No Partition Defined for Window operation! Moving all data to a single partition, this can cause serious performance degradation.\n",
      "21/07/12 15:50:06 WARN WindowExec: No Partition Defined for Window operation! Moving all data to a single partition, this can cause serious performance degradation.\n"
     ]
    },
    {
     "data": {
      "image/png": "[encoded data removed]",
      "text/plain": [
       "<Figure size 720x576 with 1 Axes>"
      ]
     },
     "metadata": {},
     "output_type": "display_data"
    }
   ],
   "source": [
    "fig = plot_retention_curve(\n",
    "    retention_df=retention_df,\n",
    "    figsize=figsize,\n",
    "    facecolor=facecolor,\n",
    "    linecolor=linecolor,\n",
    "    linestyle=linestyle,\n",
    "    marker=marker,\n",
    "    markersize=markersize,\n",
    "    fontfamily=fontfamily,\n",
    "    fontcolor=fontcolor,\n",
    "    fontsize=fontsize\n",
    ")"
   ]
  },
  {
   "cell_type": "code",
   "execution_count": 28,
   "metadata": {
    "ExecuteTime": {
     "end_time": "2021-07-12T06:50:06.830931Z",
     "start_time": "2021-07-12T06:50:06.828641Z"
    }
   },
   "outputs": [],
   "source": [
    "# fig.savefig(\"../images/test_retention_curve.png\")"
   ]
  },
  {
   "cell_type": "markdown",
   "metadata": {},
   "source": [
    "## TASK2: 시간에 따른 Activer Users 변화 &rarr; Bar Plot"
   ]
  },
  {
   "cell_type": "code",
   "execution_count": null,
   "metadata": {},
   "outputs": [],
   "source": []
  },
  {
   "cell_type": "markdown",
   "metadata": {},
   "source": [
    "## TASK3: 리텐션 라이프사이클에 따른 User Group 분포 &rarr; Nested Pie Chart"
   ]
  },
  {
   "cell_type": "code",
   "execution_count": null,
   "metadata": {},
   "outputs": [],
   "source": []
  }
 ],
 "metadata": {
  "hide_input": false,
  "kernelspec": {
   "display_name": "Python 3 (ipykernel)",
   "language": "python",
   "name": "python3"
  },
  "language_info": {
   "codemirror_mode": {
    "name": "ipython",
    "version": 3
   },
   "file_extension": ".py",
   "mimetype": "text/x-python",
   "name": "python",
   "nbconvert_exporter": "python",
   "pygments_lexer": "ipython3",
   "version": "3.8.5"
  },
  "toc": {
   "base_numbering": 1,
   "nav_menu": {},
   "number_sections": true,
   "sideBar": true,
   "skip_h1_title": false,
   "title_cell": "Table of Contents",
   "title_sidebar": "Contents",
   "toc_cell": false,
   "toc_position": {},
   "toc_section_display": true,
   "toc_window_display": false
  }
 },
 "nbformat": 4,
 "nbformat_minor": 5
}
