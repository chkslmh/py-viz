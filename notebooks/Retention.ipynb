{
 "cells": [
  {
   "cell_type": "markdown",
   "metadata": {},
   "source": [
    "> Ref: Amplitude의 [Product Analytics Playbook: Mastering Retention](https://www.productanalyticsplaybook.com/#top)\n",
    "\n",
    "위의 내용 中 1. **리텐션 커브** 2. **리텐션 라이프사이클 프레임워크** 에 대한 분석 및 시각화 작업과 이를 파이프라인화 할 수 있는 메소드를 만들어본다."
   ]
  },
  {
   "cell_type": "markdown",
   "metadata": {},
   "source": [
    "# 1. 데이터 가공 단계"
   ]
  },
  {
   "cell_type": "markdown",
   "metadata": {},
   "source": [
    "- 소스가 되는 데이터의 형태는 웹/앱에서 발생하는 이벤트 로그를 가정\n",
    "- 이벤트 로그를 기반으로 리텐션 분석이 가능한 형태의 테이블 만들기\n",
    "- 데이터 처리는 pyspark를 통해 진행"
   ]
  },
  {
   "cell_type": "code",
   "execution_count": 1,
   "metadata": {
    "ExecuteTime": {
     "end_time": "2021-07-14T09:37:32.621779Z",
     "start_time": "2021-07-14T09:37:32.615046Z"
    }
   },
   "outputs": [],
   "source": [
    "import os\n",
    "# os.environ[\"PYSPARK_PYTHON\"] = \"/opt/homebrew/bin/python3\""
   ]
  },
  {
   "cell_type": "code",
   "execution_count": 2,
   "metadata": {
    "ExecuteTime": {
     "end_time": "2021-07-14T09:37:32.727361Z",
     "start_time": "2021-07-14T09:37:32.623673Z"
    }
   },
   "outputs": [],
   "source": [
    "from pyspark.sql import SparkSession, Row, DataFrame\n",
    "from pyspark import SparkContext"
   ]
  },
  {
   "cell_type": "code",
   "execution_count": 3,
   "metadata": {
    "ExecuteTime": {
     "end_time": "2021-07-14T09:37:36.773733Z",
     "start_time": "2021-07-14T09:37:32.729673Z"
    },
    "scrolled": true,
    "tags": []
   },
   "outputs": [
    {
     "name": "stderr",
     "output_type": "stream",
     "text": [
      "21/07/14 18:37:33 WARN Utils: Your hostname, DESKTOP-D0UBG2L resolves to a loopback address: 127.0.1.1; using 172.21.197.125 instead (on interface eth0)\n",
      "21/07/14 18:37:33 WARN Utils: Set SPARK_LOCAL_IP if you need to bind to another address\n",
      "21/07/14 18:37:35 WARN NativeCodeLoader: Unable to load native-hadoop library for your platform... using builtin-java classes where applicable\n",
      "Using Spark's default log4j profile: org/apache/spark/log4j-defaults.properties\n",
      "Setting default log level to \"WARN\".\n",
      "To adjust logging level use sc.setLogLevel(newLevel). For SparkR, use setLogLevel(newLevel).\n"
     ]
    }
   ],
   "source": [
    "MAX_MEMORY = \"32g\"\n",
    "SPARK = (\n",
    "    SparkSession.builder.appName(\"Plots Tutorial Shell\")\n",
    "    .config(\"spark.driver.host\", \"localhost\")\n",
    "    .config(\"spark.driver.memory\", MAX_MEMORY)\n",
    "    .config(\"spark.sql.session.timeZone\", \"Asia/Seoul\")\n",
    "    .config(\"spark.driver.extraJavaOptions\", \"-Duser.timezone=Asia/Seoul\")\n",
    "    .config(\"spark.executor.extraJavaOptions\", \"-Duser.timezone=Asia/Seoul\")\n",
    "    .getOrCreate()\n",
    ")"
   ]
  },
  {
   "cell_type": "code",
   "execution_count": 4,
   "metadata": {
    "ExecuteTime": {
     "end_time": "2021-07-14T09:37:36.787013Z",
     "start_time": "2021-07-14T09:37:36.776226Z"
    }
   },
   "outputs": [],
   "source": [
    "from abc import ABC, abstractmethod\n",
    "\n",
    "from pyspark.sql import DataFrame, SparkSession\n",
    "from pyspark.sql.functions import col\n",
    "from pyspark.sql.types import StringType, StructField, StructType, TimestampType\n",
    "\n",
    "\n",
    "class DataMart(ABC):\n",
    "    schema: StructType\n",
    "\n",
    "    def __init__(self, spark: SparkSession):\n",
    "        self.spark = spark\n",
    "\n",
    "    @abstractmethod\n",
    "    def df(self, **kwargs) -> DataFrame:\n",
    "        raise NotImplementedError()\n",
    "\n",
    "    def fix_schema(self, df: DataFrame) -> DataFrame:\n",
    "        select_expr_list = []\n",
    "        for field in self.schema:\n",
    "            select_expr_list.append(col(field.name).cast(field.dataType))\n",
    "\n",
    "        return df.select(*select_expr_list)\n",
    "\n",
    "\n",
    "class EventMart(DataMart):\n",
    "    event_name: str\n",
    "\n",
    "    schema = StructType(\n",
    "        [\n",
    "            StructField(\"timestamp\", TimestampType()),\n",
    "            StructField(\"user_id\", StringType()),\n",
    "            StructField(\"event_name\", StringType()),\n",
    "        ]\n",
    "    )"
   ]
  },
  {
   "cell_type": "code",
   "execution_count": 5,
   "metadata": {
    "ExecuteTime": {
     "end_time": "2021-07-14T09:37:36.790813Z",
     "start_time": "2021-07-14T09:37:36.788482Z"
    }
   },
   "outputs": [],
   "source": [
    "import datetime"
   ]
  },
  {
   "cell_type": "code",
   "execution_count": 6,
   "metadata": {
    "ExecuteTime": {
     "end_time": "2021-07-14T09:37:36.801251Z",
     "start_time": "2021-07-14T09:37:36.791956Z"
    }
   },
   "outputs": [],
   "source": [
    "# event log samples\n",
    "class SampleEventMart(EventMart):\n",
    "    event_name = \"chat\"\n",
    "\n",
    "    def df(self, start_date=None, end_date=None):\n",
    "        df = self.spark.createDataFrame(\n",
    "            [\n",
    "                Row(timestamp=datetime.datetime(2021, 7, 1, 1, 1, 1), user_id=\"3215\", event_name=\"chat\"),\n",
    "                Row(timestamp=datetime.datetime(2021, 7, 1, 1, 1, 1), user_id=\"1400\", event_name=\"chat\"),\n",
    "                Row(timestamp=datetime.datetime(2021, 7, 1, 1, 1, 1), user_id=\"1000\", event_name=\"chat\"),\n",
    "                Row(timestamp=datetime.datetime(2021, 7, 1, 1, 1, 1), user_id=\"800\", event_name=\"chat\"),\n",
    "                Row(timestamp=datetime.datetime(2021, 7, 1, 1, 1, 1), user_id=\"600\", event_name=\"chat\"),\n",
    "                Row(timestamp=datetime.datetime(2021, 7, 1, 1, 1, 1), user_id=\"580\", event_name=\"chat\"),\n",
    "                Row(timestamp=datetime.datetime(2021, 7, 1, 1, 1, 1), user_id=\"582\", event_name=\"chat\"),\n",
    "                Row(timestamp=datetime.datetime(2021, 7, 1, 1, 1, 1), user_id=\"550\", event_name=\"chat\"),\n",
    "                Row(timestamp=datetime.datetime(2021, 7, 2, 1, 1, 1), user_id=\"3215\", event_name=\"chat\"),\n",
    "                Row(timestamp=datetime.datetime(2021, 7, 2, 1, 1, 1), user_id=\"1400\", event_name=\"chat\"),\n",
    "                Row(timestamp=datetime.datetime(2021, 7, 2, 1, 1, 1), user_id=\"1000\", event_name=\"chat\"),\n",
    "                Row(timestamp=datetime.datetime(2021, 7, 3, 1, 1, 1), user_id=\"3215\", event_name=\"chat\"),\n",
    "                Row(timestamp=datetime.datetime(2021, 7, 4, 1, 1, 1), user_id=\"1400\", event_name=\"chat\"),\n",
    "                Row(timestamp=datetime.datetime(2021, 7, 3, 1, 1, 1), user_id=\"1000\", event_name=\"chat\"),\n",
    "                Row(timestamp=datetime.datetime(2021, 7, 3, 1, 1, 1), user_id=\"800\", event_name=\"chat\"),\n",
    "                Row(timestamp=datetime.datetime(2021, 7, 3, 1, 1, 1), user_id=\"600\", event_name=\"chat\"),\n",
    "                Row(timestamp=datetime.datetime(2021, 7, 4, 1, 1, 1), user_id=\"580\", event_name=\"chat\"),\n",
    "                Row(timestamp=datetime.datetime(2021, 7, 5, 1, 1, 1), user_id=\"582\", event_name=\"chat\"),\n",
    "                Row(timestamp=datetime.datetime(2021, 7, 6, 1, 1, 1), user_id=\"550\", event_name=\"chat\"),\n",
    "            ]\n",
    "        )\n",
    "\n",
    "        return self.fix_schema(df=df)\n",
    "\n",
    "sample_event_mart = SampleEventMart(spark=SPARK)"
   ]
  },
  {
   "cell_type": "markdown",
   "metadata": {},
   "source": [
    "## TASK1: 특정 이벤트 발생을 기준으로 유저 리텐션 측정"
   ]
  },
  {
   "cell_type": "code",
   "execution_count": 7,
   "metadata": {
    "ExecuteTime": {
     "end_time": "2021-07-14T09:37:36.807963Z",
     "start_time": "2021-07-14T09:37:36.803037Z"
    }
   },
   "outputs": [],
   "source": [
    "import datetime\n",
    "from collections import defaultdict\n",
    "from math import floor\n",
    "from typing import Dict, Iterable, List, Literal, Optional, Union\n",
    "\n",
    "from pyspark.sql import DataFrame, Row, SparkSession\n",
    "from pyspark.sql import Window as W\n",
    "from pyspark.sql import functions as F\n",
    "from pyspark.sql import types as T"
   ]
  },
  {
   "cell_type": "markdown",
   "metadata": {},
   "source": [
    "Retention 측정 방법 세 가지\n",
    "1. N-Day\n",
    "2. Bracket\n",
    "3. Unbounded"
   ]
  },
  {
   "cell_type": "code",
   "execution_count": 8,
   "metadata": {
    "ExecuteTime": {
     "end_time": "2021-07-14T09:37:36.813514Z",
     "start_time": "2021-07-14T09:37:36.810176Z"
    }
   },
   "outputs": [],
   "source": [
    "RetentionType = Union[Literal[\"N-Day\"], Literal[\"Bracket\"], Literal[\"Unbounded\"]]"
   ]
  },
  {
   "cell_type": "code",
   "execution_count": 9,
   "metadata": {
    "ExecuteTime": {
     "end_time": "2021-07-14T09:37:36.840648Z",
     "start_time": "2021-07-14T09:37:36.815413Z"
    },
    "tags": []
   },
   "outputs": [],
   "source": [
    "class RetentionMart(DataMart):\n",
    "    template_fields = [\n",
    "        T.StructField(\"event_name\", T.StringType()),\n",
    "        T.StructField(\"retention_type\", T.StringType()),\n",
    "        T.StructField(\"period_index\", T.IntegerType()),\n",
    "        T.StructField(\n",
    "            \"date_period\",\n",
    "            T.StructType(\n",
    "                [\n",
    "                    T.StructField(\"from\", T.DateType()),\n",
    "                    T.StructField(\"to\", T.DateType()),\n",
    "                ]\n",
    "            ),\n",
    "        ),\n",
    "    ]\n",
    "\n",
    "    schema = T.StructType(\n",
    "        [\n",
    "            *template_fields,\n",
    "            T.StructField(\"num_users\", T.IntegerType()),\n",
    "            T.StructField(\"retention_rate\", T.FloatType()),\n",
    "        ]\n",
    "    )\n",
    "\n",
    "    def __init__(self, spark: SparkSession, type: RetentionType):\n",
    "        self.spark = spark\n",
    "        self.type = type\n",
    "\n",
    "    def nday(\n",
    "        self,\n",
    "        event_df: DataFrame,\n",
    "        event_name: str,\n",
    "        start_date: datetime.date,\n",
    "        end_date: datetime.date,\n",
    "    ) -> DataFrame:\n",
    "        window_size = (end_date - start_date).days + 1\n",
    "        template = self.spark.createDataFrame(\n",
    "            [\n",
    "                Row(\n",
    "                    event_name=event_name,\n",
    "                    retention_type=self.type,\n",
    "                    period_index=i,\n",
    "                    date_period={\n",
    "                        \"from\": start_date + datetime.timedelta(days=i),\n",
    "                        \"to\": start_date + datetime.timedelta(days=i),\n",
    "                    },\n",
    "                )\n",
    "                for i in range(window_size)\n",
    "            ],\n",
    "            schema=T.StructType(self.template_fields),\n",
    "        )\n",
    "\n",
    "        df_with_date = event_df.withColumn(\n",
    "            \"date\", F.col(\"timestamp\").cast(T.DateType())\n",
    "        )\n",
    "\n",
    "        cohort_members = list(\n",
    "            set(\n",
    "                row.user_id\n",
    "                for row in df_with_date.filter(F.col(\"date\") == start_date)\n",
    "                .select(\"user_id\")\n",
    "                .collect()\n",
    "            )\n",
    "        )\n",
    "\n",
    "        df_filtered = df_with_date.filter(\n",
    "            (F.col(\"date\") >= start_date) & (F.col(\"date\") <= end_date)\n",
    "        ).filter(F.col(\"user_id\").isin(cohort_members))\n",
    "\n",
    "        df_grouped = (\n",
    "            df_filtered.groupBy(\"date\")\n",
    "            .agg(F.size(F.collect_set(\"user_id\")).alias(\"num_users\"))\n",
    "            .withColumn(\n",
    "                \"period_index\",\n",
    "                F.row_number().over(W.orderBy(\"date\")) - 1,\n",
    "            )\n",
    "        )\n",
    "\n",
    "        retention_df = (\n",
    "            template.join(\n",
    "                df_grouped.select(\"period_index\", \"num_users\"),\n",
    "                on=[\"period_index\"],\n",
    "                how=\"left\",\n",
    "            )\n",
    "            .fillna(subset=[\"num_users\"], value=0)\n",
    "            .withColumn(\"retention_rate\", F.col(\"num_users\") / len(cohort_members))\n",
    "            .orderBy(\"period_index\")\n",
    "        )\n",
    "\n",
    "        return retention_df\n",
    "\n",
    "    def get_date_brackets(\n",
    "        self,\n",
    "        start_date: datetime.date,\n",
    "        end_date: datetime.date,\n",
    "        bracket_sizes: List[int],\n",
    "    ) -> List[Dict[str, datetime.date]]:\n",
    "        idx = 0\n",
    "        lower = start_date\n",
    "        upper = min(\n",
    "            [start_date + datetime.timedelta(days=bracket_sizes[idx] - 1), end_date]\n",
    "        )\n",
    "        brackets = [{\"from\": lower, \"to\": upper}]\n",
    "        while idx + 1 < len(bracket_sizes) and upper < end_date:\n",
    "            idx += 1\n",
    "            lower = upper + datetime.timedelta(days=1)\n",
    "            upper = min([upper + datetime.timedelta(days=bracket_sizes[idx]), end_date])\n",
    "            brackets.append({\"from\": lower, \"to\": upper})\n",
    "\n",
    "        return brackets\n",
    "\n",
    "    def bracket(\n",
    "        self,\n",
    "        event_df: DataFrame,\n",
    "        event_name: str,\n",
    "        start_date: datetime.date,\n",
    "        end_date: datetime.date,\n",
    "        bracket_size: Optional[int],\n",
    "        custom_bracket_sizes: Optional[List[int]],\n",
    "    ) -> DataFrame:\n",
    "        if custom_bracket_sizes:\n",
    "            _brackets = self.get_date_brackets(\n",
    "                start_date=start_date,\n",
    "                end_date=end_date,\n",
    "                bracket_sizes=custom_bracket_sizes,\n",
    "            )\n",
    "        elif bracket_size:\n",
    "            window_size = (end_date - start_date).days + 1\n",
    "            bracket_sizes = [bracket_size] * floor(window_size / bracket_size)\n",
    "            bracket_sizes += [window_size - sum(bracket_sizes)]\n",
    "            _brackets = self.get_date_brackets(\n",
    "                start_date=start_date,\n",
    "                end_date=end_date,\n",
    "                bracket_sizes=bracket_sizes,\n",
    "            )\n",
    "        else:\n",
    "            raise TypeError(\"bracket_size or custom_brack_sizes needed\")\n",
    "\n",
    "        template = self.spark.createDataFrame(\n",
    "            [\n",
    "                Row(\n",
    "                    event_name=event_name,\n",
    "                    retention_type=self.type,\n",
    "                    period_index=idx,\n",
    "                    date_period=bracket,\n",
    "                )\n",
    "                for idx, bracket in enumerate(_brackets)\n",
    "            ],\n",
    "            schema=T.StructType(self.template_fields),\n",
    "        )\n",
    "\n",
    "        df_with_date = event_df.withColumn(\n",
    "            \"date\", F.col(\"timestamp\").cast(T.DateType())\n",
    "        )\n",
    "\n",
    "        cohort_members = list(\n",
    "            set(\n",
    "                row.user_id\n",
    "                for row in (\n",
    "                    df_with_date.filter(\n",
    "                        (F.col(\"date\") >= _brackets[0][\"from\"])\n",
    "                        & (F.col(\"date\") <= _brackets[0][\"to\"])\n",
    "                    )\n",
    "                    .select(\"user_id\")\n",
    "                    .collect()\n",
    "                )\n",
    "            )\n",
    "        )\n",
    "\n",
    "        df_filtered = df_with_date.filter(\n",
    "            (F.col(\"date\") >= start_date) & (F.col(\"date\") <= end_date)\n",
    "        ).filter(F.col(\"user_id\").isin(cohort_members))\n",
    "\n",
    "        @F.udf(T.IntegerType())\n",
    "        def bracket_mapper(date: datetime.date):\n",
    "            for idx, bracket in enumerate(_brackets):\n",
    "                if date >= bracket[\"from\"] and date <= bracket[\"to\"]:\n",
    "                    return idx\n",
    "\n",
    "        df_grouped = (\n",
    "            df_filtered.withColumn(\"period_index\", bracket_mapper(F.col(\"date\")))\n",
    "            .groupBy(\"period_index\")\n",
    "            .agg(F.size(F.collect_set(\"user_id\")).alias(\"num_users\"))\n",
    "        )\n",
    "\n",
    "        retention_df = (\n",
    "            template.join(\n",
    "                df_grouped.select(\"period_index\", \"num_users\"),\n",
    "                on=[\"period_index\"],\n",
    "                how=\"left\",\n",
    "            )\n",
    "            .fillna(subset=[\"num_users\"], value=0)\n",
    "            .withColumn(\"retention_rate\", F.col(\"num_users\") / len(cohort_members))\n",
    "            .orderBy(\"period_index\")\n",
    "        )\n",
    "\n",
    "        return retention_df\n",
    "\n",
    "    def unbounded(\n",
    "        self,\n",
    "        event_df: DataFrame,\n",
    "        event_name: str,\n",
    "        start_date: datetime.date,\n",
    "        end_date: datetime.date,\n",
    "    ) -> DataFrame:\n",
    "        window_size = (end_date - start_date).days + 1\n",
    "        template = self.spark.createDataFrame(\n",
    "            [\n",
    "                Row(\n",
    "                    event_name=event_name,\n",
    "                    retention_type=self.type,\n",
    "                    period_index=i,\n",
    "                    date_period={\n",
    "                        \"from\": start_date + datetime.timedelta(days=i),\n",
    "                        \"to\": start_date + datetime.timedelta(days=i),\n",
    "                    },\n",
    "                )\n",
    "                for i in range(window_size)\n",
    "            ],\n",
    "            schema=T.StructType(self.template_fields),\n",
    "        )\n",
    "\n",
    "        df_with_date = event_df.withColumn(\n",
    "            \"date\", F.col(\"timestamp\").cast(T.DateType())\n",
    "        )\n",
    "\n",
    "        cohort_members = list(\n",
    "            set(\n",
    "                row.user_id\n",
    "                for row in df_with_date.filter(F.col(\"date\") == start_date)\n",
    "                .select(\"user_id\")\n",
    "                .collect()\n",
    "            )\n",
    "        )\n",
    "\n",
    "        df_filtered = df_with_date.filter(\n",
    "            (F.col(\"date\") >= start_date) & (F.col(\"date\") <= end_date)\n",
    "        ).filter(F.col(\"user_id\").isin(cohort_members))\n",
    "\n",
    "        df_grouped = (\n",
    "            df_filtered.withColumn(\n",
    "                \"num_users\",\n",
    "                F.size(\n",
    "                    F.collect_set(\"user_id\").over(\n",
    "                        W.orderBy(\"date\").rowsBetween(\n",
    "                            W.currentRow, W.unboundedFollowing\n",
    "                        )\n",
    "                    )\n",
    "                ),\n",
    "            )\n",
    "            .dropDuplicates([\"date\"])\n",
    "            .withColumn(\n",
    "                \"period_index\",\n",
    "                F.row_number().over(W.orderBy(\"date\")) - 1,\n",
    "            )\n",
    "        )\n",
    "\n",
    "        retention_df = (\n",
    "            template.join(\n",
    "                df_grouped.select(\"period_index\", \"num_users\"),\n",
    "                on=[\"period_index\"],\n",
    "                how=\"left\",\n",
    "            )\n",
    "            .fillna(subset=[\"num_users\"], value=0)\n",
    "            .withColumn(\"retention_rate\", F.col(\"num_users\") / len(cohort_members))\n",
    "            .orderBy(\"period_index\")\n",
    "        )\n",
    "\n",
    "        return retention_df\n",
    "\n",
    "    def df(\n",
    "        self,\n",
    "        event_mart: EventMart,\n",
    "        start_date: datetime.date,\n",
    "        end_date: datetime.date,\n",
    "        bracket_size: Optional[int] = None,\n",
    "        custom_bracket_sizes: Optional[List[int]] = None,\n",
    "    ) -> DataFrame:\n",
    "        if self.type == \"N-Day\":\n",
    "            retention_df = self.nday(\n",
    "                event_df=event_mart.df(\n",
    "                    start_date=start_date - datetime.timedelta(days=365),\n",
    "                    end_date=end_date,\n",
    "                ),\n",
    "                event_name=event_mart.event_name,\n",
    "                start_date=start_date,\n",
    "                end_date=end_date,\n",
    "            )\n",
    "        elif self.type == \"Bracket\":\n",
    "            retention_df = self.bracket(\n",
    "                event_df=event_mart.df(\n",
    "                    start_date=start_date - datetime.timedelta(days=365),\n",
    "                    end_date=end_date,\n",
    "                ),\n",
    "                event_name=event_mart.event_name,\n",
    "                start_date=start_date,\n",
    "                end_date=end_date,\n",
    "                bracket_size=bracket_size,\n",
    "                custom_bracket_sizes=custom_bracket_sizes,\n",
    "            )\n",
    "        elif self.type == \"Unbounded\":\n",
    "            retention_df = self.unbounded(\n",
    "                event_df=event_mart.df(\n",
    "                    start_date=start_date - datetime.timedelta(days=365),\n",
    "                    end_date=end_date,\n",
    "                ),\n",
    "                event_name=event_mart.event_name,\n",
    "                start_date=start_date,\n",
    "                end_date=end_date,\n",
    "            )\n",
    "        else:\n",
    "            raise TypeError(\"Retention type undefined\")\n",
    "\n",
    "        return self.fix_schema(df=retention_df)"
   ]
  },
  {
   "cell_type": "markdown",
   "metadata": {},
   "source": [
    "### N-day 방식 샘플"
   ]
  },
  {
   "cell_type": "code",
   "execution_count": 10,
   "metadata": {
    "ExecuteTime": {
     "end_time": "2021-07-14T09:37:36.847546Z",
     "start_time": "2021-07-14T09:37:36.843514Z"
    }
   },
   "outputs": [],
   "source": [
    "retention_mart = RetentionMart(spark=SPARK, type=\"N-Day\")"
   ]
  },
  {
   "cell_type": "code",
   "execution_count": 11,
   "metadata": {
    "ExecuteTime": {
     "end_time": "2021-07-14T09:37:40.210322Z",
     "start_time": "2021-07-14T09:37:36.849152Z"
    }
   },
   "outputs": [
    {
     "name": "stderr",
     "output_type": "stream",
     "text": [
      "                                                                                \r"
     ]
    }
   ],
   "source": [
    "retention_df = retention_mart.df(\n",
    "    event_mart=sample_event_mart, \n",
    "    start_date=datetime.date(2021, 7, 1), \n",
    "    end_date=datetime.date(2021, 7, 6)\n",
    ")"
   ]
  },
  {
   "cell_type": "code",
   "execution_count": 12,
   "metadata": {
    "ExecuteTime": {
     "end_time": "2021-07-14T09:37:41.716145Z",
     "start_time": "2021-07-14T09:37:40.211949Z"
    }
   },
   "outputs": [
    {
     "name": "stderr",
     "output_type": "stream",
     "text": [
      "21/07/14 18:37:40 WARN WindowExec: No Partition Defined for Window operation! Moving all data to a single partition, this can cause serious performance degradation.\n"
     ]
    },
    {
     "name": "stdout",
     "output_type": "stream",
     "text": [
      "+----------+--------------+------------+------------------------+---------+--------------+\n",
      "|event_name|retention_type|period_index|date_period             |num_users|retention_rate|\n",
      "+----------+--------------+------------+------------------------+---------+--------------+\n",
      "|chat      |N-Day         |0           |[2021-07-01, 2021-07-01]|8        |1.0           |\n",
      "|chat      |N-Day         |1           |[2021-07-02, 2021-07-02]|3        |0.375         |\n",
      "|chat      |N-Day         |2           |[2021-07-03, 2021-07-03]|4        |0.5           |\n",
      "|chat      |N-Day         |3           |[2021-07-04, 2021-07-04]|2        |0.25          |\n",
      "|chat      |N-Day         |4           |[2021-07-05, 2021-07-05]|1        |0.125         |\n",
      "|chat      |N-Day         |5           |[2021-07-06, 2021-07-06]|1        |0.125         |\n",
      "+----------+--------------+------------+------------------------+---------+--------------+\n",
      "\n"
     ]
    }
   ],
   "source": [
    "retention_df.show(20, False)"
   ]
  },
  {
   "cell_type": "markdown",
   "metadata": {},
   "source": [
    "### Bracket 방식 샘플"
   ]
  },
  {
   "cell_type": "code",
   "execution_count": 13,
   "metadata": {
    "ExecuteTime": {
     "end_time": "2021-07-14T09:37:41.721148Z",
     "start_time": "2021-07-14T09:37:41.718130Z"
    }
   },
   "outputs": [],
   "source": [
    "retention_mart = RetentionMart(spark=SPARK, type=\"Bracket\")"
   ]
  },
  {
   "cell_type": "code",
   "execution_count": 14,
   "metadata": {
    "ExecuteTime": {
     "end_time": "2021-07-14T09:37:42.102058Z",
     "start_time": "2021-07-14T09:37:41.723146Z"
    }
   },
   "outputs": [],
   "source": [
    "retention_df = retention_mart.df(\n",
    "    event_mart=sample_event_mart, \n",
    "    start_date=datetime.date(2021, 7, 1), \n",
    "    end_date=datetime.date(2021, 7, 6),\n",
    "    bracket_size=2\n",
    ")"
   ]
  },
  {
   "cell_type": "code",
   "execution_count": 15,
   "metadata": {
    "ExecuteTime": {
     "end_time": "2021-07-14T09:37:42.966926Z",
     "start_time": "2021-07-14T09:37:42.103493Z"
    }
   },
   "outputs": [
    {
     "name": "stdout",
     "output_type": "stream",
     "text": [
      "+----------+--------------+------------+------------------------+---------+--------------+\n",
      "|event_name|retention_type|period_index|date_period             |num_users|retention_rate|\n",
      "+----------+--------------+------------+------------------------+---------+--------------+\n",
      "|chat      |Bracket       |0           |[2021-07-01, 2021-07-02]|8        |1.0           |\n",
      "|chat      |Bracket       |1           |[2021-07-03, 2021-07-04]|6        |0.75          |\n",
      "|chat      |Bracket       |2           |[2021-07-05, 2021-07-06]|2        |0.25          |\n",
      "+----------+--------------+------------+------------------------+---------+--------------+\n",
      "\n"
     ]
    }
   ],
   "source": [
    "retention_df.show(20, False)"
   ]
  },
  {
   "cell_type": "markdown",
   "metadata": {},
   "source": [
    "### Unbounded 방식 샘플"
   ]
  },
  {
   "cell_type": "code",
   "execution_count": 16,
   "metadata": {
    "ExecuteTime": {
     "end_time": "2021-07-14T09:37:42.971820Z",
     "start_time": "2021-07-14T09:37:42.969028Z"
    }
   },
   "outputs": [],
   "source": [
    "retention_mart = RetentionMart(spark=SPARK, type=\"Unbounded\")"
   ]
  },
  {
   "cell_type": "code",
   "execution_count": 17,
   "metadata": {
    "ExecuteTime": {
     "end_time": "2021-07-14T09:37:43.301139Z",
     "start_time": "2021-07-14T09:37:42.973465Z"
    }
   },
   "outputs": [],
   "source": [
    "retention_df = retention_mart.df(\n",
    "    event_mart=sample_event_mart, \n",
    "    start_date=datetime.date(2021, 7, 1), \n",
    "    end_date=datetime.date(2021, 7, 6),\n",
    ")"
   ]
  },
  {
   "cell_type": "code",
   "execution_count": 18,
   "metadata": {
    "ExecuteTime": {
     "end_time": "2021-07-14T09:37:43.923352Z",
     "start_time": "2021-07-14T09:37:43.302748Z"
    }
   },
   "outputs": [
    {
     "name": "stderr",
     "output_type": "stream",
     "text": [
      "21/07/14 18:37:43 WARN WindowExec: No Partition Defined for Window operation! Moving all data to a single partition, this can cause serious performance degradation.\n",
      "21/07/14 18:37:43 WARN WindowExec: No Partition Defined for Window operation! Moving all data to a single partition, this can cause serious performance degradation.\n"
     ]
    },
    {
     "name": "stdout",
     "output_type": "stream",
     "text": [
      "+----------+--------------+------------+------------------------+---------+--------------+\n",
      "|event_name|retention_type|period_index|date_period             |num_users|retention_rate|\n",
      "+----------+--------------+------------+------------------------+---------+--------------+\n",
      "|chat      |Unbounded     |0           |[2021-07-01, 2021-07-01]|8        |1.0           |\n",
      "|chat      |Unbounded     |1           |[2021-07-02, 2021-07-02]|8        |1.0           |\n",
      "|chat      |Unbounded     |2           |[2021-07-03, 2021-07-03]|8        |1.0           |\n",
      "|chat      |Unbounded     |3           |[2021-07-04, 2021-07-04]|4        |0.5           |\n",
      "|chat      |Unbounded     |4           |[2021-07-05, 2021-07-05]|2        |0.25          |\n",
      "|chat      |Unbounded     |5           |[2021-07-06, 2021-07-06]|1        |0.125         |\n",
      "+----------+--------------+------------+------------------------+---------+--------------+\n",
      "\n"
     ]
    }
   ],
   "source": [
    "retention_df.show(20, False)"
   ]
  },
  {
   "cell_type": "markdown",
   "metadata": {},
   "source": [
    "## TASK2: 리텐션 라이프사이클에 따른 유저 그룹 분류"
   ]
  },
  {
   "cell_type": "markdown",
   "metadata": {},
   "source": [
    "1. New Users\n",
    "2. Current Users(+Power Users)\n",
    "3. Resurrected Users\n",
    "4. Dormant Users"
   ]
  },
  {
   "cell_type": "markdown",
   "metadata": {},
   "source": [
    "유저 그룹 분류를 위해서는 이벤트 유형에 따른 유저의 리텐션 주기를 미리 파악하고 있어야 함\n",
    "\n",
    "*chat 이벤트의 주기는 하루(daily)로 가정*"
   ]
  },
  {
   "cell_type": "code",
   "execution_count": 19,
   "metadata": {
    "ExecuteTime": {
     "end_time": "2021-07-14T09:37:43.939888Z",
     "start_time": "2021-07-14T09:37:43.925605Z"
    }
   },
   "outputs": [],
   "source": [
    "class UserGroupMart(DataMart):\n",
    "    schema = T.StructType(\n",
    "        [\n",
    "            T.StructField(\"event_name\", T.StringType()),\n",
    "            T.StructField(\"date\", T.DateType()),\n",
    "            T.StructField(\"new_users\", T.IntegerType()),\n",
    "            T.StructField(\"current_users\", T.IntegerType()),\n",
    "            T.StructField(\"resurrected_users\", T.IntegerType()),\n",
    "            T.StructField(\"dormant_users\", T.IntegerType()),\n",
    "        ]\n",
    "    )\n",
    "\n",
    "    def get_intervals(\n",
    "        self,\n",
    "        today: datetime.date,\n",
    "        retention_cycle: int,\n",
    "    ) -> Iterable[List[datetime.date]]:\n",
    "        current_interval = []\n",
    "        for i in range(retention_cycle):\n",
    "            current_interval.append(today - datetime.timedelta(days=i))\n",
    "        current_interval.sort()\n",
    "\n",
    "        previous_interval = []\n",
    "        for j in range(retention_cycle, retention_cycle * 2):\n",
    "            previous_interval.append(today - datetime.timedelta(days=j))\n",
    "        previous_interval.sort()\n",
    "\n",
    "        return previous_interval, current_interval\n",
    "\n",
    "    def df(\n",
    "        self,\n",
    "        event_mart: EventMart,\n",
    "        cycle_days: int,\n",
    "        start_date: datetime.date,\n",
    "        end_date: datetime.date,\n",
    "    ) -> DataFrame:\n",
    "        df_grouped = (\n",
    "            event_mart.df(\n",
    "                start_date=start_date - datetime.timedelta(days=365),\n",
    "                end_date=end_date,\n",
    "            )\n",
    "            .withColumn(\n",
    "                \"new_user_flag\",\n",
    "                F.when(\n",
    "                    F.min(\"timestamp\").over(W.partitionBy(\"user_id\"))\n",
    "                    == F.col(\"timestamp\"),\n",
    "                    F.col(\"user_id\"),\n",
    "                ).otherwise(F.lit(None)),\n",
    "            )\n",
    "            .withColumn(\"date\", F.col(\"timestamp\").cast(T.DateType()))\n",
    "            .filter((F.col(\"date\") >= start_date) & (F.col(\"date\") <= end_date))\n",
    "            .withColumn(\n",
    "                \"all_users_so_far\",\n",
    "                F.collect_set(\"user_id\").over(\n",
    "                    W.orderBy(\"timestamp\").rowsBetween(\n",
    "                        W.unboundedPreceding, W.currentRow\n",
    "                    )\n",
    "                ),\n",
    "            )\n",
    "            .orderBy(\"timestamp\")\n",
    "            .groupBy(\"event_name\", \"date\")\n",
    "            .agg(\n",
    "                F.collect_set(\"user_id\").alias(\"active_users\"),\n",
    "                F.collect_set(\"new_user_flag\").alias(\"new_users\"),\n",
    "                F.last(\"all_users_so_far\").alias(\"user_pool\"),\n",
    "            )\n",
    "        )\n",
    "\n",
    "        daily_user_groups = {\n",
    "            row.date: {\n",
    "                \"active_users\": row.active_users,\n",
    "                \"new_users\": row.new_users,\n",
    "                \"user_pool\": row.user_pool,\n",
    "            }\n",
    "            for row in df_grouped.collect()\n",
    "        }\n",
    "\n",
    "        date_range = [\n",
    "            start_date + datetime.timedelta(days=i)\n",
    "            for i in range((end_date - start_date).days + 1)\n",
    "        ]\n",
    "        user_segmentations = defaultdict(dict)\n",
    "        for date in date_range:\n",
    "            previous_interval, current_interval = self.get_intervals(\n",
    "                today=date, retention_cycle=cycle_days\n",
    "            )\n",
    "\n",
    "            # 1. New Users & Active Users\n",
    "            new_users = set()\n",
    "            active_users = set()\n",
    "            for _date in set(current_interval) & set(date_range):\n",
    "                new_users |= set(daily_user_groups[_date][\"new_users\"])\n",
    "                active_users |= set(daily_user_groups[_date][\"active_users\"])\n",
    "\n",
    "            user_segmentations[date][\"new_users\"] = new_users\n",
    "\n",
    "            # 2. Current Users\n",
    "            was_active_users = set()\n",
    "            for _date in set(previous_interval) & set(date_range):\n",
    "                if _date not in date_range:\n",
    "                    continue\n",
    "                was_active_users |= set(daily_user_groups[_date][\"active_users\"])\n",
    "\n",
    "            user_segmentations[date][\"current_users\"] = active_users & was_active_users\n",
    "\n",
    "            # 3. Resurrected Users\n",
    "            user_segmentations[date][\"resurrected_users\"] = (\n",
    "                active_users - was_active_users - new_users\n",
    "            )\n",
    "\n",
    "            # 4. Dormant Users\n",
    "            user_pool_so_far = set(daily_user_groups[date][\"user_pool\"])\n",
    "\n",
    "            user_segmentations[date][\"dormant_users\"] = user_pool_so_far - active_users\n",
    "\n",
    "        user_group_df = self.spark.createDataFrame(\n",
    "            [\n",
    "                Row(\n",
    "                    event_name=event_mart.event_name,\n",
    "                    date=date,\n",
    "                    new_users=len(user_groups[\"new_users\"]),\n",
    "                    current_users=len(user_groups[\"current_users\"]),\n",
    "                    resurrected_users=len(user_groups[\"resurrected_users\"]),\n",
    "                    dormant_users=len(user_groups[\"dormant_users\"]),\n",
    "                )\n",
    "                for date, user_groups in user_segmentations.items()\n",
    "            ]\n",
    "        )\n",
    "\n",
    "        return self.fix_schema(df=user_group_df)"
   ]
  },
  {
   "cell_type": "markdown",
   "metadata": {},
   "source": [
    "### 유저 그룹 분류 샘플"
   ]
  },
  {
   "cell_type": "code",
   "execution_count": 20,
   "metadata": {
    "ExecuteTime": {
     "end_time": "2021-07-14T09:37:43.947741Z",
     "start_time": "2021-07-14T09:37:43.941768Z"
    }
   },
   "outputs": [],
   "source": [
    "user_group_mart = UserGroupMart(spark=SPARK)"
   ]
  },
  {
   "cell_type": "code",
   "execution_count": 21,
   "metadata": {
    "ExecuteTime": {
     "end_time": "2021-07-14T09:37:44.564919Z",
     "start_time": "2021-07-14T09:37:43.949545Z"
    }
   },
   "outputs": [
    {
     "name": "stderr",
     "output_type": "stream",
     "text": [
      "21/07/14 18:37:44 WARN WindowExec: No Partition Defined for Window operation! Moving all data to a single partition, this can cause serious performance degradation.\n"
     ]
    }
   ],
   "source": [
    "user_group_df = user_group_mart.df(\n",
    "    event_mart=sample_event_mart,\n",
    "    cycle_days=1,\n",
    "    start_date=datetime.date(2021, 7, 1),\n",
    "    end_date=datetime.date(2021, 7, 6)\n",
    ")"
   ]
  },
  {
   "cell_type": "code",
   "execution_count": 22,
   "metadata": {
    "ExecuteTime": {
     "end_time": "2021-07-14T09:37:44.795233Z",
     "start_time": "2021-07-14T09:37:44.566537Z"
    }
   },
   "outputs": [
    {
     "name": "stdout",
     "output_type": "stream",
     "text": [
      "+----------+----------+---------+-------------+-----------------+-------------+\n",
      "|event_name|      date|new_users|current_users|resurrected_users|dormant_users|\n",
      "+----------+----------+---------+-------------+-----------------+-------------+\n",
      "|      chat|2021-07-01|        8|            0|                0|            0|\n",
      "|      chat|2021-07-02|        0|            3|                0|            5|\n",
      "|      chat|2021-07-03|        0|            2|                2|            4|\n",
      "|      chat|2021-07-04|        0|            0|                2|            6|\n",
      "|      chat|2021-07-05|        0|            0|                1|            7|\n",
      "|      chat|2021-07-06|        0|            0|                1|            7|\n",
      "+----------+----------+---------+-------------+-----------------+-------------+\n",
      "\n"
     ]
    }
   ],
   "source": [
    "user_group_df.show()"
   ]
  },
  {
   "cell_type": "markdown",
   "metadata": {},
   "source": [
    "# 2. 시각화 단계"
   ]
  },
  {
   "cell_type": "markdown",
   "metadata": {},
   "source": [
    "- seaborn 사용해서 기본 테마 잡고\n",
    "- color 직접 지정해서 plot 커스텀할 수 있는 시각화 메소드 구현"
   ]
  },
  {
   "cell_type": "code",
   "execution_count": 23,
   "metadata": {
    "ExecuteTime": {
     "end_time": "2021-07-14T09:37:44.937651Z",
     "start_time": "2021-07-14T09:37:44.797034Z"
    }
   },
   "outputs": [],
   "source": [
    "from abc import ABC, abstractmethod\n",
    "from typing import Iterable, List, Optional, Tuple, Union\n",
    "\n",
    "import numpy as np\n",
    "from matplotlib import pyplot as plt\n",
    "from pyspark.sql import DataFrame\n",
    "\n",
    "from IPython.display import display"
   ]
  },
  {
   "cell_type": "code",
   "execution_count": 24,
   "metadata": {
    "ExecuteTime": {
     "end_time": "2021-07-14T09:37:44.954622Z",
     "start_time": "2021-07-14T09:37:44.939456Z"
    }
   },
   "outputs": [],
   "source": [
    "Numeric = Union[int, float]\n",
    "\n",
    "\n",
    "class Visualizer(ABC):\n",
    "    def __init__(\n",
    "        self,\n",
    "        style: str,\n",
    "        figsize: Tuple[Numeric, Numeric],\n",
    "        facecolor: str = \"w\",\n",
    "        **kwargs,\n",
    "    ):\n",
    "        plt.style.use(style)\n",
    "        self.fig = self.create_figure(figsize=figsize, facecolor=facecolor, **kwargs)\n",
    "\n",
    "    @abstractmethod\n",
    "    def plot(self, df: DataFrame, **kwargs) -> plt.Figure:\n",
    "        raise NotImplementedError\n",
    "\n",
    "    def create_figure(\n",
    "        self,\n",
    "        figsize: Tuple[Numeric, Numeric],\n",
    "        facecolor: str,\n",
    "        **kwargs,\n",
    "    ) -> plt.Figure:\n",
    "        return plt.figure(figsize=figsize, facecolor=facecolor, **kwargs)\n",
    "\n",
    "    def create_axes(\n",
    "        self,\n",
    "        facecolor: str,\n",
    "        **kwargs,\n",
    "    ) -> Union[plt.Axes, Iterable[plt.Axes]]:\n",
    "        return self.fig.subplots(subplot_kw=dict(facecolor=facecolor), **kwargs)\n",
    "\n",
    "    def lineplot(\n",
    "        self,\n",
    "        ax: plt.Axes,\n",
    "        linecolor: str,\n",
    "        linestyle: str,\n",
    "        markerstyle: str,\n",
    "        markersize: Numeric,\n",
    "        markercolor: str,\n",
    "        x_data: List[Numeric],\n",
    "        y_data: List[Numeric],\n",
    "        y_data_label: str = None,\n",
    "    ):\n",
    "        if y_data_label is not None:\n",
    "            ax.plot(\n",
    "                x_data,\n",
    "                y_data,\n",
    "                color=linecolor,\n",
    "                ls=linestyle,\n",
    "                marker=markerstyle,\n",
    "                ms=markersize,\n",
    "                mfc=markercolor,\n",
    "                label=y_data_label,\n",
    "            )\n",
    "        else:\n",
    "            ax.plot(\n",
    "                x_data,\n",
    "                y_data,\n",
    "                color=linecolor,\n",
    "                ls=linestyle,\n",
    "                marker=markerstyle,\n",
    "                ms=markersize,\n",
    "                mfc=markercolor,\n",
    "            )\n",
    "\n",
    "    def barplot(\n",
    "        self,\n",
    "        ax: plt.Axes,\n",
    "        barcolor: str,\n",
    "        barwidth: Numeric,\n",
    "        edgecolor: str,\n",
    "        linewidth: Numeric,\n",
    "        x_data: List[Numeric],\n",
    "        y_data: List[Numeric],\n",
    "        y_data_label: str = None,\n",
    "    ):\n",
    "        if y_data_label is not None:\n",
    "            ax.bar(\n",
    "                x=x_data,\n",
    "                height=y_data,\n",
    "                color=barcolor,\n",
    "                width=barwidth,\n",
    "                edgecolor=edgecolor,\n",
    "                linewidth=linewidth,\n",
    "                label=y_data_label,\n",
    "            )\n",
    "        else:\n",
    "            ax.bar(\n",
    "                x=x_data,\n",
    "                height=y_data,\n",
    "                color=barcolor,\n",
    "                width=barwidth,\n",
    "                edgecolor=edgecolor,\n",
    "                linewidth=linewidth,\n",
    "            )\n",
    "\n",
    "    def stacked_barplot(\n",
    "        self,\n",
    "        ax: plt.Axes,\n",
    "        barcolor_list: List[str],\n",
    "        barwidth: Numeric,\n",
    "        edgecolor: str,\n",
    "        linewidth: Numeric,\n",
    "        x_data: List[Numeric],\n",
    "        y_data_list: List[List[Numeric]],\n",
    "        y_data_label_list: List[str],\n",
    "    ):\n",
    "        # First Bar\n",
    "        first_y_data = y_data_list.pop(0)\n",
    "        first_y_label = y_data_label_list.pop(0)\n",
    "        first_barcolor = barcolor_list.pop(0)\n",
    "        ax.bar(\n",
    "            x=x_data,\n",
    "            height=first_y_data,\n",
    "            color=first_barcolor,\n",
    "            width=barwidth,\n",
    "            label=first_y_label,\n",
    "            edgecolor=edgecolor,\n",
    "            linewidth=linewidth,\n",
    "        )\n",
    "        bottoms = np.array(first_y_data)\n",
    "        for y_data, y_label, barcolor in zip(\n",
    "            y_data_list, y_data_label_list, barcolor_list\n",
    "        ):\n",
    "            ax.bar(\n",
    "                x=x_data,\n",
    "                height=y_data,\n",
    "                color=barcolor,\n",
    "                width=barwidth,\n",
    "                bottom=bottoms,\n",
    "                label=y_label,\n",
    "                edgecolor=edgecolor,\n",
    "                linewidth=linewidth,\n",
    "            )\n",
    "            bottoms += np.array(y_data)\n",
    "\n",
    "    def xaxis_settings(\n",
    "        self,\n",
    "        ax: plt.Axes,\n",
    "        xaxis_label: Optional[str],\n",
    "        xticks: List[Numeric],\n",
    "        xtick_labels: List[str],\n",
    "        fontsize: Numeric,\n",
    "        fontcolor: str,\n",
    "        rotation: Numeric = None,\n",
    "    ):\n",
    "        # Set xaxis label\n",
    "        ax.set_xlabel(xaxis_label, fontsize=fontsize, color=fontcolor)\n",
    "\n",
    "        # Set x tick\n",
    "        ax.set_xticks(xticks)\n",
    "\n",
    "        # Set x tick labels\n",
    "        if rotation:\n",
    "            ax.set_xticklabels(\n",
    "                xtick_labels,\n",
    "                fontsize=fontsize,\n",
    "                color=fontcolor,\n",
    "                rotation=rotation,\n",
    "            )\n",
    "        else:\n",
    "            ax.set_xticklabels(xtick_labels, fontsize=fontsize, color=fontcolor)\n",
    "\n",
    "    def yaxis_settings(\n",
    "        self,\n",
    "        ax: plt.Axes,\n",
    "        yaxis_label: Optional[str],\n",
    "        yticks: List[Numeric],\n",
    "        ytick_labels: List[str],\n",
    "        fontsize: Numeric,\n",
    "        fontcolor: str,\n",
    "        rotation: Numeric = None,\n",
    "    ):\n",
    "        # Set xaxis label\n",
    "        ax.set_ylabel(yaxis_label, fontsize=fontsize, color=fontcolor)\n",
    "\n",
    "        # Set x tick\n",
    "        ax.set_yticks(yticks)\n",
    "\n",
    "        # Set x tick labels\n",
    "        if rotation:\n",
    "            ax.set_yticklabels(\n",
    "                ytick_labels,\n",
    "                fontsize=fontsize,\n",
    "                color=fontcolor,\n",
    "                rotation=rotation,\n",
    "            )\n",
    "        else:\n",
    "            ax.set_yticklabels(ytick_labels, fontsize=fontsize, color=fontcolor)\n",
    "\n",
    "    def annotate(\n",
    "        self,\n",
    "        ax: plt.Axes,\n",
    "        x_coordinates: List[Numeric],\n",
    "        y_coordinates: List[Numeric],\n",
    "        annotates: List[str],\n",
    "        size: Numeric,\n",
    "        color: str,\n",
    "    ):\n",
    "        for x, y, t in zip(x_coordinates, y_coordinates, annotates):\n",
    "            ax.text(x, y, t, size=size, color=color)"
   ]
  },
  {
   "cell_type": "markdown",
   "metadata": {},
   "source": [
    "## TASK1: 리텐션 커브 &rarr; Line Plot"
   ]
  },
  {
   "cell_type": "code",
   "execution_count": 25,
   "metadata": {
    "ExecuteTime": {
     "end_time": "2021-07-14T09:37:44.965547Z",
     "start_time": "2021-07-14T09:37:44.956092Z"
    }
   },
   "outputs": [],
   "source": [
    "class RetentionCurveVisualizer(Visualizer):\n",
    "    def plot(\n",
    "        self,\n",
    "        df: DataFrame,\n",
    "        facecolor: str,\n",
    "        linecolor: str,\n",
    "        linestyle: str,\n",
    "        markercolor: str,\n",
    "        markerstyle: str,\n",
    "        markersize: Union[int, float],\n",
    "        fontcolor: str,\n",
    "        fontsize: Union[int, float],\n",
    "        gridcolor: str,\n",
    "        title: str,\n",
    "    ):\n",
    "        data = (\n",
    "            df.orderBy(\"period_index\")\n",
    "            .select(\"period_index\", \"date_period\", \"retention_rate\", \"num_users\")\n",
    "            .collect()\n",
    "        )\n",
    "        retention_type = df.select(\"retention_type\").first().retention_type\n",
    "\n",
    "        # x & y data\n",
    "        x_data = [row.period_index for row in data]\n",
    "        y_data = [row.retention_rate for row in data]\n",
    "\n",
    "        # y ticks\n",
    "        yticks = np.arange(0, 1.01, 0.1)\n",
    "\n",
    "        # x & y tick labels\n",
    "        if retention_type == \"Bracket\":\n",
    "            xtick_labels = [\n",
    "                \"~\".join(\n",
    "                    [\n",
    "                        f\"Period {idx}\\n{row.date_period['from'].month}/{row.date_period['from'].day}\",\n",
    "                        f\"{row.date_period['to'].month}/{row.date_period['to'].day}\",\n",
    "                    ]\n",
    "                )\n",
    "                for idx, row in enumerate(data)\n",
    "            ]\n",
    "        else:\n",
    "            xtick_labels = [\n",
    "                f\"Day {idx}\\n{row.date_period['from'].month}/{row.date_period['from'].day}\"\n",
    "                for idx, row in enumerate(data)\n",
    "            ]\n",
    "        ytick_labels = [\"{:.0%}\".format(rate) for rate in yticks]\n",
    "\n",
    "        # annotates\n",
    "        annotates = [f\"{row.num_users} Users\" for row in data]\n",
    "\n",
    "        # create Axes\n",
    "        ax = self.create_axes(facecolor=facecolor)\n",
    "\n",
    "        # line plot\n",
    "        self.lineplot(\n",
    "            ax=ax,\n",
    "            linecolor=linecolor,\n",
    "            linestyle=linestyle,\n",
    "            markerstyle=markerstyle,\n",
    "            markersize=markersize,\n",
    "            markercolor=markercolor,\n",
    "            x_data=x_data,\n",
    "            y_data=y_data,\n",
    "        )\n",
    "\n",
    "        # set title\n",
    "        assert not isinstance(ax, Iterable)\n",
    "        ax.set_title(title, size=fontsize, color=fontcolor)\n",
    "\n",
    "        # set x tick & label\n",
    "        if retention_type == \"Bracket\":\n",
    "            self.xaxis_settings(\n",
    "                ax=ax,\n",
    "                xaxis_label=None,\n",
    "                xticks=x_data,\n",
    "                xtick_labels=xtick_labels,\n",
    "                fontsize=fontsize,\n",
    "                fontcolor=fontcolor,\n",
    "                rotation=20,\n",
    "            )\n",
    "        else:\n",
    "            self.xaxis_settings(\n",
    "                ax=ax,\n",
    "                xaxis_label=None,\n",
    "                xticks=x_data,\n",
    "                xtick_labels=xtick_labels,\n",
    "                fontsize=fontsize,\n",
    "                fontcolor=fontcolor,\n",
    "            )\n",
    "\n",
    "        # set y tick & label\n",
    "        self.yaxis_settings(\n",
    "            ax=ax,\n",
    "            yaxis_label=None,\n",
    "            yticks=yticks,\n",
    "            ytick_labels=ytick_labels,\n",
    "            fontsize=fontsize,\n",
    "            fontcolor=fontcolor,\n",
    "        )\n",
    "\n",
    "        # Annotate\n",
    "        self.annotate(\n",
    "            ax=ax,\n",
    "            x_coordinates=[x - 0.1 for x in x_data],\n",
    "            y_coordinates=[y + 0.025 for y in y_data],\n",
    "            annotates=annotates,\n",
    "            size=fontsize,\n",
    "            color=fontcolor,\n",
    "        )\n",
    "\n",
    "        # Set grid\n",
    "        ax.grid(True, axis=\"both\", color=gridcolor)"
   ]
  },
  {
   "cell_type": "code",
   "execution_count": 26,
   "metadata": {
    "ExecuteTime": {
     "end_time": "2021-07-14T09:37:44.976969Z",
     "start_time": "2021-07-14T09:37:44.967236Z"
    }
   },
   "outputs": [
    {
     "data": {
      "text/plain": [
       "<Figure size 720x576 with 0 Axes>"
      ]
     },
     "metadata": {},
     "output_type": "display_data"
    }
   ],
   "source": [
    "viz = RetentionCurveVisualizer(figsize=(10, 8), style=\"seaborn-darkgrid\")"
   ]
  },
  {
   "cell_type": "code",
   "execution_count": 27,
   "metadata": {
    "ExecuteTime": {
     "end_time": "2021-07-14T09:37:44.981843Z",
     "start_time": "2021-07-14T09:37:44.978737Z"
    }
   },
   "outputs": [],
   "source": [
    "facecolor = \"w\"\n",
    "linecolor = \"#002999\"\n",
    "linestyle = \":\"\n",
    "markercolor = linecolor\n",
    "markerstyle = \"s\"\n",
    "markersize = 7\n",
    "fontcolor = \"#3269ff\"\n",
    "fontsize = 12\n",
    "gridcolor = \"#eaeaf2\"\n",
    "title = \"Retention Curve\""
   ]
  },
  {
   "cell_type": "code",
   "execution_count": 28,
   "metadata": {
    "ExecuteTime": {
     "end_time": "2021-07-14T09:37:46.121608Z",
     "start_time": "2021-07-14T09:37:44.984867Z"
    }
   },
   "outputs": [
    {
     "name": "stderr",
     "output_type": "stream",
     "text": [
      "21/07/14 18:37:45 WARN WindowExec: No Partition Defined for Window operation! Moving all data to a single partition, this can cause serious performance degradation.\n",
      "21/07/14 18:37:45 WARN WindowExec: No Partition Defined for Window operation! Moving all data to a single partition, this can cause serious performance degradation.\n",
      "21/07/14 18:37:45 WARN WindowExec: No Partition Defined for Window operation! Moving all data to a single partition, this can cause serious performance degradation.\n"
     ]
    }
   ],
   "source": [
    "viz.plot(\n",
    "    df=retention_df,\n",
    "    facecolor=facecolor,\n",
    "    linecolor=linecolor,\n",
    "    linestyle=linestyle,\n",
    "    markercolor=markercolor,\n",
    "    markerstyle=markerstyle,\n",
    "    markersize=markersize,\n",
    "    fontcolor=fontcolor,\n",
    "    fontsize=fontsize,\n",
    "    gridcolor=gridcolor,\n",
    "    title=title,\n",
    ")"
   ]
  },
  {
   "cell_type": "code",
   "execution_count": 29,
   "metadata": {
    "ExecuteTime": {
     "end_time": "2021-07-14T09:37:46.229591Z",
     "start_time": "2021-07-14T09:37:46.123276Z"
    }
   },
   "outputs": [
    {
     "data": {
      "image/png": "[encoded data removed]",
      "text/plain": [
       "<Figure size 720x576 with 1 Axes>"
      ]
     },
     "metadata": {},
     "output_type": "display_data"
    }
   ],
   "source": [
    "display(viz.fig)"
   ]
  },
  {
   "cell_type": "markdown",
   "metadata": {},
   "source": [
    "## TASK2: 리텐션 라이프사이클에 따른 User Group 분포 &rarr; Stacked Bar Plot"
   ]
  },
  {
   "cell_type": "code",
   "execution_count": 30,
   "metadata": {
    "ExecuteTime": {
     "end_time": "2021-07-14T09:37:46.242536Z",
     "start_time": "2021-07-14T09:37:46.231323Z"
    }
   },
   "outputs": [],
   "source": [
    "class UserGroupVisualizer(Visualizer):\n",
    "    def get_tick_size(self, max_user_count: int):\n",
    "        digits = len(str(max_user_count))\n",
    "\n",
    "        if digits == 1:\n",
    "            return 1\n",
    "        else:\n",
    "            big_size = 10 ** digits\n",
    "            small_size = 10 ** (digits - 1) * 5\n",
    "            if max_user_count > big_size * 5:\n",
    "                return big_size\n",
    "            else:\n",
    "                return small_size\n",
    "\n",
    "    def plot(\n",
    "        self,\n",
    "        df: DataFrame,\n",
    "        facecolor: str,\n",
    "        barcolor_dict: Dict[str, str],\n",
    "        barwidth: Union[int, float],\n",
    "        edgecolor: str,\n",
    "        fontcolor: str,\n",
    "        fontsize: Union[int, float],\n",
    "        gridcolor: str,\n",
    "        title: str,\n",
    "    ):\n",
    "        data = df.orderBy(\"date\").collect()\n",
    "        # x & y data\n",
    "        x_data = [row.date for row in data]\n",
    "\n",
    "        y_current_users = [row.current_users for row in data]\n",
    "        y_resurrected_users = [row.resurrected_users for row in data]\n",
    "        y_new_users = [row.new_users for row in data]\n",
    "        y_dormant_users = [-row.dormant_users for row in data]\n",
    "\n",
    "        # y ticks\n",
    "        y_max = np.max(\n",
    "            sum(map(np.array, [y_current_users, y_resurrected_users, y_new_users]))\n",
    "        )\n",
    "        y_min = min(y_dormant_users)\n",
    "        yticks_positive = np.arange(\n",
    "            0, y_max + 1, self.get_tick_size(max_user_count=y_max)\n",
    "        )\n",
    "        yticks_negative = -np.arange(\n",
    "            0, abs(y_min) + 1, self.get_tick_size(max_user_count=abs(y_min))\n",
    "        )\n",
    "        yticks_negative = np.delete(yticks_negative, np.where(yticks_negative == 0))\n",
    "        yticks_negative.sort()\n",
    "\n",
    "        yticks = np.concatenate((yticks_negative, yticks_positive))\n",
    "\n",
    "        # x & y tick lables\n",
    "        xtick_labels = [f\"{date.month}/{date.day}\" for date in x_data]\n",
    "        ytick_labels = np.concatenate((-yticks_negative, yticks_positive))\n",
    "\n",
    "        # create Axes\n",
    "        ax = self.create_axes(facecolor=facecolor)\n",
    "\n",
    "        # 1. Current/Resurrected/New Users -> stacked bar plot\n",
    "        self.stacked_barplot(\n",
    "            ax=ax,\n",
    "            barcolor_list=[\n",
    "                barcolor_dict[\"Resurrected Users\"],\n",
    "                barcolor_dict[\"Current Users\"],\n",
    "                barcolor_dict[\"New Users\"],\n",
    "            ],\n",
    "            barwidth=barwidth,\n",
    "            edgecolor=edgecolor,\n",
    "            linewidth=1.2,\n",
    "            x_data=x_data,\n",
    "            y_data_list=[y_resurrected_users, y_current_users, y_new_users],\n",
    "            y_data_label_list=[\"Resurrected Users\", \"Current Users\", \"New Users\"],\n",
    "        )\n",
    "\n",
    "        # 2. Dormant Users -> negative bar plot\n",
    "        self.barplot(\n",
    "            ax=ax,\n",
    "            barcolor=barcolor_dict[\"Dormant Users\"],\n",
    "            barwidth=barwidth,\n",
    "            x_data=x_data,\n",
    "            edgecolor=edgecolor,\n",
    "            linewidth=1.2,\n",
    "            y_data=y_dormant_users,\n",
    "            y_data_label=\"Dormant Users\",\n",
    "        )\n",
    "\n",
    "        # set title\n",
    "        assert not isinstance(ax, Iterable)\n",
    "        ax.set_title(title, size=fontsize, color=fontcolor)\n",
    "\n",
    "        # set x tick & label\n",
    "        self.xaxis_settings(\n",
    "            ax=ax,\n",
    "            xaxis_label=None,\n",
    "            xticks=x_data,\n",
    "            xtick_labels=xtick_labels,\n",
    "            fontsize=fontsize,\n",
    "            fontcolor=fontcolor,\n",
    "        )\n",
    "\n",
    "        # set y tick & label\n",
    "        self.yaxis_settings(\n",
    "            ax=ax,\n",
    "            yaxis_label=None,\n",
    "            yticks=yticks,\n",
    "            ytick_labels=ytick_labels,\n",
    "            fontsize=fontsize,\n",
    "            fontcolor=fontcolor,\n",
    "        )\n",
    "\n",
    "        # turn on legend\n",
    "        ax.legend(labelcolor=fontcolor)\n",
    "\n",
    "        # turn off x grid and turn on y grid\n",
    "        ax.grid(False, axis=\"x\")\n",
    "        ax.grid(True, axis=\"y\", color=gridcolor)"
   ]
  },
  {
   "cell_type": "code",
   "execution_count": 31,
   "metadata": {
    "ExecuteTime": {
     "end_time": "2021-07-14T09:37:46.251800Z",
     "start_time": "2021-07-14T09:37:46.244274Z"
    }
   },
   "outputs": [
    {
     "data": {
      "text/plain": [
       "<Figure size 720x576 with 0 Axes>"
      ]
     },
     "metadata": {},
     "output_type": "display_data"
    }
   ],
   "source": [
    "viz = UserGroupVisualizer(figsize=(10, 8), style=\"seaborn-darkgrid\")"
   ]
  },
  {
   "cell_type": "code",
   "execution_count": 32,
   "metadata": {
    "ExecuteTime": {
     "end_time": "2021-07-14T09:37:46.258764Z",
     "start_time": "2021-07-14T09:37:46.253449Z"
    }
   },
   "outputs": [],
   "source": [
    "facecolor = \"w\"\n",
    "barcolor_dict = {\n",
    "    \"Current Users\": \"#3269ff\",\n",
    "    \"Resurrected Users\": \"#0036cc\",\n",
    "    \"New Users\": \"#99b4ff\",\n",
    "    \"Dormant Users\": \"#7a8bb8\"\n",
    "}\n",
    "barwidth = 0.4\n",
    "fontcolor = \"#002999\"\n",
    "fontsize = 12\n",
    "title = \"User Distrubution by Retention Lifecycle\"\n",
    "gridcolor = \"#eaeaf2\""
   ]
  },
  {
   "cell_type": "code",
   "execution_count": 33,
   "metadata": {
    "ExecuteTime": {
     "end_time": "2021-07-14T09:37:46.535909Z",
     "start_time": "2021-07-14T09:37:46.260464Z"
    }
   },
   "outputs": [],
   "source": [
    "viz.plot(\n",
    "    df=user_group_df,\n",
    "    facecolor=facecolor,\n",
    "    barcolor_dict=barcolor_dict,\n",
    "    barwidth=barwidth,\n",
    "    edgecolor=\"w\",\n",
    "    fontcolor=fontcolor,\n",
    "    fontsize=fontsize,\n",
    "    gridcolor=gridcolor,\n",
    "    title=title,\n",
    ")"
   ]
  },
  {
   "cell_type": "code",
   "execution_count": 34,
   "metadata": {
    "ExecuteTime": {
     "end_time": "2021-07-14T09:37:46.660022Z",
     "start_time": "2021-07-14T09:37:46.537754Z"
    }
   },
   "outputs": [
    {
     "data": {
      "image/png": "[encoded data removed]",
      "text/plain": [
       "<Figure size 720x576 with 1 Axes>"
      ]
     },
     "metadata": {},
     "output_type": "display_data"
    }
   ],
   "source": [
    "display(viz.fig)"
   ]
  }
 ],
 "metadata": {
  "hide_input": false,
  "kernelspec": {
   "display_name": "Python 3 (ipykernel)",
   "language": "python",
   "name": "python3"
  },
  "language_info": {
   "codemirror_mode": {
    "name": "ipython",
    "version": 3
   },
   "file_extension": ".py",
   "mimetype": "text/x-python",
   "name": "python",
   "nbconvert_exporter": "python",
   "pygments_lexer": "ipython3",
   "version": "3.8.5"
  },
  "toc": {
   "base_numbering": 1,
   "nav_menu": {},
   "number_sections": true,
   "sideBar": true,
   "skip_h1_title": false,
   "title_cell": "Table of Contents",
   "title_sidebar": "Contents",
   "toc_cell": false,
   "toc_position": {},
   "toc_section_display": true,
   "toc_window_display": false
  }
 },
 "nbformat": 4,
 "nbformat_minor": 5
}
